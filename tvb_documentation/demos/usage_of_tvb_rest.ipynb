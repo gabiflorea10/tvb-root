{
 "cells": [
  {
   "cell_type": "markdown",
   "metadata": {},
   "source": [
    "# Rest resources"
   ]
  },
  {
   "cell_type": "code",
   "execution_count": 22,
   "metadata": {
    "pycharm": {
     "is_executing": true
    }
   },
   "outputs": [],
   "source": [
    "import os\n",
    "import tvb_data\n",
    "from tvb.core.entities.file.files_helper import FilesHelper\n",
    "from tvb.interfaces.rest.commons.exceptions import InvalidIdentifierException\n",
    "from tvb.interfaces.rest.server.resources.user.user_resource import GetUsersResource, GetProjectsListResource\n",
    "from tvb.tests.framework.core.factory import TestFactory\n",
    "from tvb.interfaces.rest.server.resources.project.project_resource import GetDataInProjectResource, \\\n",
    "    GetOperationsInProjectResource\n",
    "from tvb.interfaces.rest.server.resources.datatype.datatype_resource import RetrieveDatatypeResource, \\\n",
    "    GetOperationsForDatatypeResource\n",
    "from tvb.interfaces.rest.server.resources.operation.operation_resource import GetOperationStatusResource, \\\n",
    "    GetOperationResultsResource, LaunchOperationResource\n",
    "from tvb.interfaces.rest.server.resources.simulator.simulation_resource import FireSimulationResource\n",
    "from tvb.simulator.simulator import Simulator"
   ]
  },
  {
   "cell_type": "markdown",
   "metadata": {},
   "source": [
    "## User resources"
   ]
  },
  {
   "cell_type": "code",
   "execution_count": null,
   "metadata": {
    "pycharm": {
     "is_executing": true
    }
   },
   "outputs": [],
   "source": [
    "### Initialization of used data\n",
    "\n",
    "username = 'Rest_User'\n",
    "test_user = TestFactory.create_user(username)\n",
    "test_project = TestFactory.create_project(test_user, 'Rest_Project')\n",
    "users_resource = GetUsersResource()\n",
    "projects_list_resource = GetProjectsListResource()\n"
   ]
  },
  {
   "cell_type": "code",
   "execution_count": null,
   "metadata": {
    "pycharm": {
     "is_executing": true
    }
   },
   "outputs": [],
   "source": [
    "### Get users\n",
    "\n",
    "result = users_resource.get()\n",
    "for userDTO in result:\n",
    "    print(userDTO.username)\n",
    "    "
   ]
  },
  {
   "cell_type": "code",
   "execution_count": null,
   "metadata": {
    "pycharm": {
     "is_executing": true
    }
   },
   "outputs": [],
   "source": [
    "### Get projects\n",
    "\n",
    "result = projects_list_resource.get(username)\n",
    "for projectDTO in result:\n",
    "    print(projectDTO.name)\n",
    "    "
   ]
  },
  {
   "cell_type": "code",
   "execution_count": null,
   "metadata": {
    "pycharm": {
     "is_executing": true
    }
   },
   "outputs": [],
   "source": [
    "### Clean\n",
    "\n",
    "FilesHelper().remove_project_structure(test_project.name)\n"
   ]
  },
  {
   "cell_type": "markdown",
   "metadata": {},
   "source": [
    "## Project resources"
   ]
  },
  {
   "cell_type": "code",
   "execution_count": null,
   "metadata": {
    "pycharm": {
     "is_executing": true
    }
   },
   "outputs": [],
   "source": [
    "### Initialization of used data\n",
    "\n",
    "data_resource = GetDataInProjectResource()\n",
    "operations_resource = GetOperationsInProjectResource()\n",
    "test_user = TestFactory.create_user('Rest_User1')\n",
    "test_project_with_data = TestFactory.create_project(test_user, 'Rest_Project2')\n",
    "zip_path = os.path.join(os.path.dirname(tvb_data.__file__), 'connectivity', 'connectivity_96.zip')\n",
    "TestFactory.import_zip_connectivity(test_user, test_project_with_data, zip_path)\n",
    "    "
   ]
  },
  {
   "cell_type": "code",
   "execution_count": null,
   "metadata": {
    "pycharm": {
     "is_executing": true
    }
   },
   "outputs": [],
   "source": [
    "### Get data in project\n",
    "\n",
    "project_gid = test_project_with_data.gid\n",
    "result = data_resource.get(project_gid)\n",
    "print(result)\n"
   ]
  },
  {
   "cell_type": "code",
   "execution_count": null,
   "metadata": {
    "pycharm": {
     "is_executing": true
    }
   },
   "outputs": [],
   "source": [
    "### Get operations in project\n",
    "\n",
    "project_gid = test_project_with_data.gid\n",
    "result = operations_resource.get(project_gid)\n",
    "print(result)\n"
   ]
  },
  {
   "cell_type": "code",
   "execution_count": null,
   "metadata": {
    "pycharm": {
     "is_executing": true
    }
   },
   "outputs": [],
   "source": [
    "### Clean\n",
    "\n",
    "FilesHelper().remove_project_structure(test_project_with_data.name)\n"
   ]
  },
  {
   "cell_type": "markdown",
   "metadata": {},
   "source": [
    "## Datatype resources"
   ]
  },
  {
   "cell_type": "code",
   "execution_count": 5,
   "metadata": {
    "pycharm": {
     "is_executing": true
    }
   },
   "outputs": [],
   "source": [
    "### Initialization of used data\n",
    "\n",
    "test_user = TestFactory.create_user('Rest_User6')\n",
    "test_project = TestFactory.create_project(test_user, 'Rest_Project6')\n",
    "retrieve_resource = RetrieveDatatypeResource()\n",
    "get_operations_resource = GetOperationsForDatatypeResource()\n",
    "get_data_in_project_resource = GetDataInProjectResource()\n"
   ]
  },
  {
   "cell_type": "code",
   "execution_count": 6,
   "metadata": {
    "pycharm": {
     "is_executing": true
    }
   },
   "outputs": [
    {
     "name": "stdout",
     "output_type": "stream",
     "text": [
      "2020-02-28 10:33:18,523 - INFO - tvb.core.services.flow_service - Starting operation ZIPConnectivityImporter\n",
      "2020-02-28 10:33:18,737 - ERROR - tvb.core.services.operation_service - Unexpected output DataType <class 'tvb.core.entities.model.model_datatype.DataType'>\n",
      "Traceback (most recent call last):\n",
      "  File \"c:\\gabrielfloreadata\\tvb_rest\\tvb-root-fork\\tvb-root\\framework_tvb\\tvb\\core\\services\\operation_service.py\", line 321, in initiate_prelaunch\n",
      "    result_msg, nr_datatypes = adapter_instance._prelaunch(operation, unique_id, available_space, view_model)\n",
      "  File \"c:\\gabrielfloreadata\\tvb_rest\\tvb-root-fork\\tvb-root\\framework_tvb\\tvb\\core\\adapters\\abcuploader.py\", line 80, in _prelaunch\n",
      "    return ABCSynchronous._prelaunch(self, operation, uid, available_disk_space, view_model, **kwargs)\n",
      "  File \"c:\\gabrielfloreadata\\tvb_rest\\tvb-root-fork\\tvb-root\\framework_tvb\\tvb\\core\\adapters\\abcadapter.py\", line 89, in new_function\n",
      "    return func(*args, **kw)\n",
      "  File \"c:\\gabrielfloreadata\\tvb_rest\\tvb-root-fork\\tvb-root\\framework_tvb\\tvb\\core\\adapters\\abcadapter.py\", line 378, in _prelaunch\n",
      "    self.__check_integrity(result)\n",
      "  File \"c:\\gabrielfloreadata\\tvb_rest\\tvb-root-fork\\tvb-root\\framework_tvb\\tvb\\core\\adapters\\abcadapter.py\", line 438, in __check_integrity\n",
      "    raise InvalidParameterException(msg % type(result_entity))\n",
      "tvb.core.adapters.exceptions.InvalidParameterException: Unexpected output DataType <class 'tvb.core.entities.model.model_datatype.DataType'>\n",
      "2020-02-28 10:33:18,770 - ERROR - tvb.core.services.flow_service - Could not launch operation ZIPConnectivityImporter with the given set of input data, because: Unexpected output DataType <class 'tvb.core.entities.model.model_datatype.DataType'>\n",
      "Traceback (most recent call last):\n",
      "  File \"c:\\gabrielfloreadata\\tvb_rest\\tvb-root-fork\\tvb-root\\framework_tvb\\tvb\\core\\services\\flow_service.py\", line 178, in fire_operation\n",
      "    model_view=view_model, **data)\n",
      "  File \"c:\\gabrielfloreadata\\tvb_rest\\tvb-root-fork\\tvb-root\\framework_tvb\\tvb\\core\\services\\operation_service.py\", line 126, in initiate_operation\n",
      "    return self.initiate_prelaunch(operations[0], adapter_instance, **kwargs)\n",
      "  File \"c:\\gabrielfloreadata\\tvb_rest\\tvb-root-fork\\tvb-root\\framework_tvb\\tvb\\core\\services\\operation_service.py\", line 342, in initiate_prelaunch\n",
      "    self._handle_exception(excep, temp_files, excep.message, operation)\n",
      "  File \"c:\\gabrielfloreadata\\tvb_rest\\tvb-root-fork\\tvb-root\\framework_tvb\\tvb\\core\\services\\operation_service.py\", line 395, in _handle_exception\n",
      "    sys.exc_info()[2])  # when rethrowing in python this is required to preserve the stack trace\n",
      "  File \"c:\\gabrielfloreadata\\tvb_rest\\tvb-root-fork\\tvb-root\\framework_tvb\\tvb\\core\\services\\operation_service.py\", line 321, in initiate_prelaunch\n",
      "    result_msg, nr_datatypes = adapter_instance._prelaunch(operation, unique_id, available_space, view_model)\n",
      "  File \"c:\\gabrielfloreadata\\tvb_rest\\tvb-root-fork\\tvb-root\\framework_tvb\\tvb\\core\\adapters\\abcuploader.py\", line 80, in _prelaunch\n",
      "    return ABCSynchronous._prelaunch(self, operation, uid, available_disk_space, view_model, **kwargs)\n",
      "  File \"c:\\gabrielfloreadata\\tvb_rest\\tvb-root-fork\\tvb-root\\framework_tvb\\tvb\\core\\adapters\\abcadapter.py\", line 89, in new_function\n",
      "    return func(*args, **kw)\n",
      "  File \"c:\\gabrielfloreadata\\tvb_rest\\tvb-root-fork\\tvb-root\\framework_tvb\\tvb\\core\\adapters\\abcadapter.py\", line 378, in _prelaunch\n",
      "    self.__check_integrity(result)\n",
      "  File \"c:\\gabrielfloreadata\\tvb_rest\\tvb-root-fork\\tvb-root\\framework_tvb\\tvb\\core\\adapters\\abcadapter.py\", line 438, in __check_integrity\n",
      "    raise InvalidParameterException(msg % type(result_entity))\n",
      "tvb.core.adapters.exceptions.InvalidParameterException: Unexpected output DataType <class 'tvb.core.entities.model.model_datatype.DataType'>\n"
     ]
    },
    {
     "ename": "OperationException",
     "evalue": "Unexpected output DataType <class 'tvb.core.entities.model.model_datatype.DataType'>",
     "output_type": "error",
     "traceback": [
      "\u001b[1;31m---------------------------------------------------------------------------\u001b[0m",
      "\u001b[1;31mInvalidParameterException\u001b[0m                 Traceback (most recent call last)",
      "\u001b[1;32mc:\\gabrielfloreadata\\tvb_rest\\tvb-root-fork\\tvb-root\\framework_tvb\\tvb\\core\\services\\flow_service.py\u001b[0m in \u001b[0;36mfire_operation\u001b[1;34m(self, adapter_instance, current_user, project_id, visible, view_model, **data)\u001b[0m\n\u001b[0;32m    177\u001b[0m             result = OperationService().initiate_operation(current_user, project, adapter_instance, visible,\n\u001b[1;32m--> 178\u001b[1;33m                                                            model_view=view_model, **data)\n\u001b[0m\u001b[0;32m    179\u001b[0m             \u001b[0mself\u001b[0m\u001b[1;33m.\u001b[0m\u001b[0mlogger\u001b[0m\u001b[1;33m.\u001b[0m\u001b[0minfo\u001b[0m\u001b[1;33m(\u001b[0m\u001b[1;34m\"Finished operation launch:\"\u001b[0m \u001b[1;33m+\u001b[0m \u001b[0moperation_name\u001b[0m\u001b[1;33m)\u001b[0m\u001b[1;33m\u001b[0m\u001b[1;33m\u001b[0m\u001b[0m\n",
      "\u001b[1;32mc:\\gabrielfloreadata\\tvb_rest\\tvb-root-fork\\tvb-root\\framework_tvb\\tvb\\core\\services\\operation_service.py\u001b[0m in \u001b[0;36minitiate_operation\u001b[1;34m(self, current_user, project, adapter_instance, visible, model_view, **kwargs)\u001b[0m\n\u001b[0;32m    125\u001b[0m                 \u001b[1;32mraise\u001b[0m \u001b[0mLaunchException\u001b[0m\u001b[1;33m(\u001b[0m\u001b[1;34m\"Invalid empty Operation!!!\"\u001b[0m\u001b[1;33m)\u001b[0m\u001b[1;33m\u001b[0m\u001b[1;33m\u001b[0m\u001b[0m\n\u001b[1;32m--> 126\u001b[1;33m             \u001b[1;32mreturn\u001b[0m \u001b[0mself\u001b[0m\u001b[1;33m.\u001b[0m\u001b[0minitiate_prelaunch\u001b[0m\u001b[1;33m(\u001b[0m\u001b[0moperations\u001b[0m\u001b[1;33m[\u001b[0m\u001b[1;36m0\u001b[0m\u001b[1;33m]\u001b[0m\u001b[1;33m,\u001b[0m \u001b[0madapter_instance\u001b[0m\u001b[1;33m,\u001b[0m \u001b[1;33m**\u001b[0m\u001b[0mkwargs\u001b[0m\u001b[1;33m)\u001b[0m\u001b[1;33m\u001b[0m\u001b[1;33m\u001b[0m\u001b[0m\n\u001b[0m\u001b[0;32m    127\u001b[0m         \u001b[1;32melse\u001b[0m\u001b[1;33m:\u001b[0m\u001b[1;33m\u001b[0m\u001b[1;33m\u001b[0m\u001b[0m\n",
      "\u001b[1;32mc:\\gabrielfloreadata\\tvb_rest\\tvb-root-fork\\tvb-root\\framework_tvb\\tvb\\core\\services\\operation_service.py\u001b[0m in \u001b[0;36minitiate_prelaunch\u001b[1;34m(self, operation, adapter_instance, **kwargs)\u001b[0m\n\u001b[0;32m    341\u001b[0m         \u001b[1;32mexcept\u001b[0m \u001b[0mTVBException\u001b[0m \u001b[1;32mas\u001b[0m \u001b[0mexcep\u001b[0m\u001b[1;33m:\u001b[0m\u001b[1;33m\u001b[0m\u001b[1;33m\u001b[0m\u001b[0m\n\u001b[1;32m--> 342\u001b[1;33m             \u001b[0mself\u001b[0m\u001b[1;33m.\u001b[0m\u001b[0m_handle_exception\u001b[0m\u001b[1;33m(\u001b[0m\u001b[0mexcep\u001b[0m\u001b[1;33m,\u001b[0m \u001b[0mtemp_files\u001b[0m\u001b[1;33m,\u001b[0m \u001b[0mexcep\u001b[0m\u001b[1;33m.\u001b[0m\u001b[0mmessage\u001b[0m\u001b[1;33m,\u001b[0m \u001b[0moperation\u001b[0m\u001b[1;33m)\u001b[0m\u001b[1;33m\u001b[0m\u001b[1;33m\u001b[0m\u001b[0m\n\u001b[0m\u001b[0;32m    343\u001b[0m         \u001b[1;32mexcept\u001b[0m \u001b[0mMemoryError\u001b[0m\u001b[1;33m:\u001b[0m\u001b[1;33m\u001b[0m\u001b[1;33m\u001b[0m\u001b[0m\n",
      "\u001b[1;32mc:\\gabrielfloreadata\\tvb_rest\\tvb-root-fork\\tvb-root\\framework_tvb\\tvb\\core\\services\\operation_service.py\u001b[0m in \u001b[0;36m_handle_exception\u001b[1;34m(self, exception, temp_files, message, operation)\u001b[0m\n\u001b[0;32m    394\u001b[0m         raise exception.with_traceback(\n\u001b[1;32m--> 395\u001b[1;33m             sys.exc_info()[2])  # when rethrowing in python this is required to preserve the stack trace\n\u001b[0m\u001b[0;32m    396\u001b[0m \u001b[1;33m\u001b[0m\u001b[0m\n",
      "\u001b[1;32mc:\\gabrielfloreadata\\tvb_rest\\tvb-root-fork\\tvb-root\\framework_tvb\\tvb\\core\\services\\operation_service.py\u001b[0m in \u001b[0;36minitiate_prelaunch\u001b[1;34m(self, operation, adapter_instance, **kwargs)\u001b[0m\n\u001b[0;32m    320\u001b[0m             \u001b[0mview_model\u001b[0m \u001b[1;33m=\u001b[0m \u001b[0mself\u001b[0m\u001b[1;33m.\u001b[0m\u001b[0mload_view_model\u001b[0m\u001b[1;33m(\u001b[0m\u001b[0madapter_instance\u001b[0m\u001b[1;33m,\u001b[0m \u001b[0moperation\u001b[0m\u001b[1;33m)\u001b[0m\u001b[1;33m\u001b[0m\u001b[1;33m\u001b[0m\u001b[0m\n\u001b[1;32m--> 321\u001b[1;33m             \u001b[0mresult_msg\u001b[0m\u001b[1;33m,\u001b[0m \u001b[0mnr_datatypes\u001b[0m \u001b[1;33m=\u001b[0m \u001b[0madapter_instance\u001b[0m\u001b[1;33m.\u001b[0m\u001b[0m_prelaunch\u001b[0m\u001b[1;33m(\u001b[0m\u001b[0moperation\u001b[0m\u001b[1;33m,\u001b[0m \u001b[0munique_id\u001b[0m\u001b[1;33m,\u001b[0m \u001b[0mavailable_space\u001b[0m\u001b[1;33m,\u001b[0m \u001b[0mview_model\u001b[0m\u001b[1;33m)\u001b[0m\u001b[1;33m\u001b[0m\u001b[1;33m\u001b[0m\u001b[0m\n\u001b[0m\u001b[0;32m    322\u001b[0m             \u001b[0moperation\u001b[0m \u001b[1;33m=\u001b[0m \u001b[0mdao\u001b[0m\u001b[1;33m.\u001b[0m\u001b[0mget_operation_by_id\u001b[0m\u001b[1;33m(\u001b[0m\u001b[0moperation\u001b[0m\u001b[1;33m.\u001b[0m\u001b[0mid\u001b[0m\u001b[1;33m)\u001b[0m\u001b[1;33m\u001b[0m\u001b[1;33m\u001b[0m\u001b[0m\n",
      "\u001b[1;32mc:\\gabrielfloreadata\\tvb_rest\\tvb-root-fork\\tvb-root\\framework_tvb\\tvb\\core\\adapters\\abcuploader.py\u001b[0m in \u001b[0;36m_prelaunch\u001b[1;34m(self, operation, uid, available_disk_space, view_model, **kwargs)\u001b[0m\n\u001b[0;32m     79\u001b[0m \u001b[1;33m\u001b[0m\u001b[0m\n\u001b[1;32m---> 80\u001b[1;33m         \u001b[1;32mreturn\u001b[0m \u001b[0mABCSynchronous\u001b[0m\u001b[1;33m.\u001b[0m\u001b[0m_prelaunch\u001b[0m\u001b[1;33m(\u001b[0m\u001b[0mself\u001b[0m\u001b[1;33m,\u001b[0m \u001b[0moperation\u001b[0m\u001b[1;33m,\u001b[0m \u001b[0muid\u001b[0m\u001b[1;33m,\u001b[0m \u001b[0mavailable_disk_space\u001b[0m\u001b[1;33m,\u001b[0m \u001b[0mview_model\u001b[0m\u001b[1;33m,\u001b[0m \u001b[1;33m**\u001b[0m\u001b[0mkwargs\u001b[0m\u001b[1;33m)\u001b[0m\u001b[1;33m\u001b[0m\u001b[1;33m\u001b[0m\u001b[0m\n\u001b[0m\u001b[0;32m     81\u001b[0m \u001b[1;33m\u001b[0m\u001b[0m\n",
      "\u001b[1;32mc:\\gabrielfloreadata\\tvb_rest\\tvb-root-fork\\tvb-root\\framework_tvb\\tvb\\core\\adapters\\abcadapter.py\u001b[0m in \u001b[0;36mnew_function\u001b[1;34m(*args, **kw)\u001b[0m\n\u001b[0;32m     88\u001b[0m             \u001b[1;32mtry\u001b[0m\u001b[1;33m:\u001b[0m\u001b[1;33m\u001b[0m\u001b[1;33m\u001b[0m\u001b[0m\n\u001b[1;32m---> 89\u001b[1;33m                 \u001b[1;32mreturn\u001b[0m \u001b[0mfunc\u001b[0m\u001b[1;33m(\u001b[0m\u001b[1;33m*\u001b[0m\u001b[0margs\u001b[0m\u001b[1;33m,\u001b[0m \u001b[1;33m**\u001b[0m\u001b[0mkw\u001b[0m\u001b[1;33m)\u001b[0m\u001b[1;33m\u001b[0m\u001b[1;33m\u001b[0m\u001b[0m\n\u001b[0m\u001b[0;32m     90\u001b[0m             \u001b[1;32mexcept\u001b[0m \u001b[0mFloatingPointError\u001b[0m\u001b[1;33m:\u001b[0m\u001b[1;33m\u001b[0m\u001b[1;33m\u001b[0m\u001b[0m\n",
      "\u001b[1;32mc:\\gabrielfloreadata\\tvb_rest\\tvb-root-fork\\tvb-root\\framework_tvb\\tvb\\core\\adapters\\abcadapter.py\u001b[0m in \u001b[0;36m_prelaunch\u001b[1;34m(self, operation, uid, available_disk_space, view_model, **kwargs)\u001b[0m\n\u001b[0;32m    377\u001b[0m             \u001b[0mresult\u001b[0m \u001b[1;33m=\u001b[0m \u001b[1;33m[\u001b[0m\u001b[0mresult\u001b[0m\u001b[1;33m,\u001b[0m \u001b[1;33m]\u001b[0m\u001b[1;33m\u001b[0m\u001b[1;33m\u001b[0m\u001b[0m\n\u001b[1;32m--> 378\u001b[1;33m         \u001b[0mself\u001b[0m\u001b[1;33m.\u001b[0m\u001b[0m__check_integrity\u001b[0m\u001b[1;33m(\u001b[0m\u001b[0mresult\u001b[0m\u001b[1;33m)\u001b[0m\u001b[1;33m\u001b[0m\u001b[1;33m\u001b[0m\u001b[0m\n\u001b[0m\u001b[0;32m    379\u001b[0m         \u001b[1;32mreturn\u001b[0m \u001b[0mself\u001b[0m\u001b[1;33m.\u001b[0m\u001b[0m_capture_operation_results\u001b[0m\u001b[1;33m(\u001b[0m\u001b[0mresult\u001b[0m\u001b[1;33m)\u001b[0m\u001b[1;33m\u001b[0m\u001b[1;33m\u001b[0m\u001b[0m\n",
      "\u001b[1;32mc:\\gabrielfloreadata\\tvb_rest\\tvb-root-fork\\tvb-root\\framework_tvb\\tvb\\core\\adapters\\abcadapter.py\u001b[0m in \u001b[0;36m__check_integrity\u001b[1;34m(self, result)\u001b[0m\n\u001b[0;32m    437\u001b[0m                 \u001b[0mmsg\u001b[0m \u001b[1;33m=\u001b[0m \u001b[1;34m\"Unexpected output DataType %s\"\u001b[0m\u001b[1;33m\u001b[0m\u001b[1;33m\u001b[0m\u001b[0m\n\u001b[1;32m--> 438\u001b[1;33m                 \u001b[1;32mraise\u001b[0m \u001b[0mInvalidParameterException\u001b[0m\u001b[1;33m(\u001b[0m\u001b[0mmsg\u001b[0m \u001b[1;33m%\u001b[0m \u001b[0mtype\u001b[0m\u001b[1;33m(\u001b[0m\u001b[0mresult_entity\u001b[0m\u001b[1;33m)\u001b[0m\u001b[1;33m)\u001b[0m\u001b[1;33m\u001b[0m\u001b[1;33m\u001b[0m\u001b[0m\n\u001b[0m\u001b[0;32m    439\u001b[0m \u001b[1;33m\u001b[0m\u001b[0m\n",
      "\u001b[1;31mInvalidParameterException\u001b[0m: Unexpected output DataType <class 'tvb.core.entities.model.model_datatype.DataType'>",
      "\nDuring handling of the above exception, another exception occurred:\n",
      "\u001b[1;31mOperationException\u001b[0m                        Traceback (most recent call last)",
      "\u001b[1;32m<ipython-input-6-69ce3348619e>\u001b[0m in \u001b[0;36m<module>\u001b[1;34m\u001b[0m\n\u001b[0;32m      2\u001b[0m \u001b[1;33m\u001b[0m\u001b[0m\n\u001b[0;32m      3\u001b[0m \u001b[0mzip_path\u001b[0m \u001b[1;33m=\u001b[0m \u001b[0mos\u001b[0m\u001b[1;33m.\u001b[0m\u001b[0mpath\u001b[0m\u001b[1;33m.\u001b[0m\u001b[0mjoin\u001b[0m\u001b[1;33m(\u001b[0m\u001b[0mos\u001b[0m\u001b[1;33m.\u001b[0m\u001b[0mpath\u001b[0m\u001b[1;33m.\u001b[0m\u001b[0mdirname\u001b[0m\u001b[1;33m(\u001b[0m\u001b[0mtvb_data\u001b[0m\u001b[1;33m.\u001b[0m\u001b[0m__file__\u001b[0m\u001b[1;33m)\u001b[0m\u001b[1;33m,\u001b[0m \u001b[1;34m'connectivity'\u001b[0m\u001b[1;33m,\u001b[0m \u001b[1;34m'connectivity_96.zip'\u001b[0m\u001b[1;33m)\u001b[0m\u001b[1;33m\u001b[0m\u001b[1;33m\u001b[0m\u001b[0m\n\u001b[1;32m----> 4\u001b[1;33m \u001b[0mTestFactory\u001b[0m\u001b[1;33m.\u001b[0m\u001b[0mimport_zip_connectivity\u001b[0m\u001b[1;33m(\u001b[0m\u001b[0mtest_user\u001b[0m\u001b[1;33m,\u001b[0m \u001b[0mtest_project\u001b[0m\u001b[1;33m,\u001b[0m \u001b[0mzip_path\u001b[0m\u001b[1;33m)\u001b[0m\u001b[1;33m\u001b[0m\u001b[1;33m\u001b[0m\u001b[0m\n\u001b[0m\u001b[0;32m      5\u001b[0m \u001b[0mdatatypes_in_project\u001b[0m \u001b[1;33m=\u001b[0m \u001b[0mget_data_in_project_resource\u001b[0m\u001b[1;33m.\u001b[0m\u001b[0mget\u001b[0m\u001b[1;33m(\u001b[0m\u001b[0mtest_project\u001b[0m\u001b[1;33m.\u001b[0m\u001b[0mgid\u001b[0m\u001b[1;33m)\u001b[0m\u001b[1;33m\u001b[0m\u001b[1;33m\u001b[0m\u001b[0m\n\u001b[0;32m      6\u001b[0m \u001b[1;33m\u001b[0m\u001b[0m\n",
      "\u001b[1;32mc:\\gabrielfloreadata\\tvb_rest\\tvb-root-fork\\tvb-root\\framework_tvb\\tvb\\tests\\framework\\core\\factory.py\u001b[0m in \u001b[0;36mimport_zip_connectivity\u001b[1;34m(user, project, zip_path, subject)\u001b[0m\n\u001b[0;32m    376\u001b[0m \u001b[1;33m\u001b[0m\u001b[0m\n\u001b[0;32m    377\u001b[0m         \u001b[1;31m# Launch Operation\u001b[0m\u001b[1;33m\u001b[0m\u001b[1;33m\u001b[0m\u001b[1;33m\u001b[0m\u001b[0m\n\u001b[1;32m--> 378\u001b[1;33m         \u001b[0mFlowService\u001b[0m\u001b[1;33m(\u001b[0m\u001b[1;33m)\u001b[0m\u001b[1;33m.\u001b[0m\u001b[0mfire_operation\u001b[0m\u001b[1;33m(\u001b[0m\u001b[0mimporter\u001b[0m\u001b[1;33m,\u001b[0m \u001b[0muser\u001b[0m\u001b[1;33m,\u001b[0m \u001b[0mproject\u001b[0m\u001b[1;33m.\u001b[0m\u001b[0mid\u001b[0m\u001b[1;33m,\u001b[0m \u001b[0mview_model\u001b[0m\u001b[1;33m=\u001b[0m\u001b[0mview_model\u001b[0m\u001b[1;33m)\u001b[0m\u001b[1;33m\u001b[0m\u001b[1;33m\u001b[0m\u001b[0m\n\u001b[0m\u001b[0;32m    379\u001b[0m \u001b[1;33m\u001b[0m\u001b[0m\n\u001b[0;32m    380\u001b[0m \u001b[1;33m\u001b[0m\u001b[0m\n",
      "\u001b[1;32mc:\\gabrielfloreadata\\tvb_rest\\tvb-root-fork\\tvb-root\\framework_tvb\\tvb\\core\\services\\flow_service.py\u001b[0m in \u001b[0;36mfire_operation\u001b[1;34m(self, adapter_instance, current_user, project_id, visible, view_model, **data)\u001b[0m\n\u001b[0;32m    183\u001b[0m             self.logger.exception(\"Could not launch operation \" + operation_name +\n\u001b[0;32m    184\u001b[0m                                   \" with the given set of input data, because: \" + excep.message)\n\u001b[1;32m--> 185\u001b[1;33m             \u001b[1;32mraise\u001b[0m \u001b[0mOperationException\u001b[0m\u001b[1;33m(\u001b[0m\u001b[0mexcep\u001b[0m\u001b[1;33m.\u001b[0m\u001b[0mmessage\u001b[0m\u001b[1;33m,\u001b[0m \u001b[0mexcep\u001b[0m\u001b[1;33m)\u001b[0m\u001b[1;33m\u001b[0m\u001b[1;33m\u001b[0m\u001b[0m\n\u001b[0m\u001b[0;32m    186\u001b[0m         \u001b[1;32mexcept\u001b[0m \u001b[0mException\u001b[0m \u001b[1;32mas\u001b[0m \u001b[0mexcep\u001b[0m\u001b[1;33m:\u001b[0m\u001b[1;33m\u001b[0m\u001b[1;33m\u001b[0m\u001b[0m\n\u001b[0;32m    187\u001b[0m             \u001b[0mself\u001b[0m\u001b[1;33m.\u001b[0m\u001b[0mlogger\u001b[0m\u001b[1;33m.\u001b[0m\u001b[0mexception\u001b[0m\u001b[1;33m(\u001b[0m\u001b[1;34m\"Could not launch operation \"\u001b[0m \u001b[1;33m+\u001b[0m \u001b[0moperation_name\u001b[0m \u001b[1;33m+\u001b[0m \u001b[1;34m\" with the given set of input data!\"\u001b[0m\u001b[1;33m)\u001b[0m\u001b[1;33m\u001b[0m\u001b[1;33m\u001b[0m\u001b[0m\n",
      "\u001b[1;31mOperationException\u001b[0m: Unexpected output DataType <class 'tvb.core.entities.model.model_datatype.DataType'>"
     ]
    }
   ],
   "source": [
    "### Retrieve datatype\n",
    "\n",
    "zip_path = os.path.join(os.path.dirname(tvb_data.__file__), 'connectivity', 'connectivity_96.zip')\n",
    "TestFactory.import_zip_connectivity(test_user, test_project, zip_path)\n",
    "datatypes_in_project = get_data_in_project_resource.get(test_project.gid)\n",
    "print(datatypes_in_project)\n"
   ]
  },
  {
   "cell_type": "code",
   "execution_count": 7,
   "metadata": {},
   "outputs": [
    {
     "name": "stdout",
     "output_type": "stream",
     "text": [
      "2020-02-28 10:35:08,435 - INFO - tvb.core.services.flow_service - Starting operation ZIPConnectivityImporter\n",
      "2020-02-28 10:35:08,646 - ERROR - tvb.core.services.operation_service - Unexpected output DataType <class 'tvb.core.entities.model.model_datatype.DataType'>\n",
      "Traceback (most recent call last):\n",
      "  File \"c:\\gabrielfloreadata\\tvb_rest\\tvb-root-fork\\tvb-root\\framework_tvb\\tvb\\core\\services\\operation_service.py\", line 321, in initiate_prelaunch\n",
      "    result_msg, nr_datatypes = adapter_instance._prelaunch(operation, unique_id, available_space, view_model)\n",
      "  File \"c:\\gabrielfloreadata\\tvb_rest\\tvb-root-fork\\tvb-root\\framework_tvb\\tvb\\core\\adapters\\abcuploader.py\", line 80, in _prelaunch\n",
      "    return ABCSynchronous._prelaunch(self, operation, uid, available_disk_space, view_model, **kwargs)\n",
      "  File \"c:\\gabrielfloreadata\\tvb_rest\\tvb-root-fork\\tvb-root\\framework_tvb\\tvb\\core\\adapters\\abcadapter.py\", line 89, in new_function\n",
      "    return func(*args, **kw)\n",
      "  File \"c:\\gabrielfloreadata\\tvb_rest\\tvb-root-fork\\tvb-root\\framework_tvb\\tvb\\core\\adapters\\abcadapter.py\", line 378, in _prelaunch\n",
      "    self.__check_integrity(result)\n",
      "  File \"c:\\gabrielfloreadata\\tvb_rest\\tvb-root-fork\\tvb-root\\framework_tvb\\tvb\\core\\adapters\\abcadapter.py\", line 438, in __check_integrity\n",
      "    raise InvalidParameterException(msg % type(result_entity))\n",
      "tvb.core.adapters.exceptions.InvalidParameterException: Unexpected output DataType <class 'tvb.core.entities.model.model_datatype.DataType'>\n",
      "2020-02-28 10:35:08,678 - ERROR - tvb.core.services.flow_service - Could not launch operation ZIPConnectivityImporter with the given set of input data, because: Unexpected output DataType <class 'tvb.core.entities.model.model_datatype.DataType'>\n",
      "Traceback (most recent call last):\n",
      "  File \"c:\\gabrielfloreadata\\tvb_rest\\tvb-root-fork\\tvb-root\\framework_tvb\\tvb\\core\\services\\flow_service.py\", line 178, in fire_operation\n",
      "    model_view=view_model, **data)\n",
      "  File \"c:\\gabrielfloreadata\\tvb_rest\\tvb-root-fork\\tvb-root\\framework_tvb\\tvb\\core\\services\\operation_service.py\", line 126, in initiate_operation\n",
      "    return self.initiate_prelaunch(operations[0], adapter_instance, **kwargs)\n",
      "  File \"c:\\gabrielfloreadata\\tvb_rest\\tvb-root-fork\\tvb-root\\framework_tvb\\tvb\\core\\services\\operation_service.py\", line 342, in initiate_prelaunch\n",
      "    self._handle_exception(excep, temp_files, excep.message, operation)\n",
      "  File \"c:\\gabrielfloreadata\\tvb_rest\\tvb-root-fork\\tvb-root\\framework_tvb\\tvb\\core\\services\\operation_service.py\", line 395, in _handle_exception\n",
      "    sys.exc_info()[2])  # when rethrowing in python this is required to preserve the stack trace\n",
      "  File \"c:\\gabrielfloreadata\\tvb_rest\\tvb-root-fork\\tvb-root\\framework_tvb\\tvb\\core\\services\\operation_service.py\", line 321, in initiate_prelaunch\n",
      "    result_msg, nr_datatypes = adapter_instance._prelaunch(operation, unique_id, available_space, view_model)\n",
      "  File \"c:\\gabrielfloreadata\\tvb_rest\\tvb-root-fork\\tvb-root\\framework_tvb\\tvb\\core\\adapters\\abcuploader.py\", line 80, in _prelaunch\n",
      "    return ABCSynchronous._prelaunch(self, operation, uid, available_disk_space, view_model, **kwargs)\n",
      "  File \"c:\\gabrielfloreadata\\tvb_rest\\tvb-root-fork\\tvb-root\\framework_tvb\\tvb\\core\\adapters\\abcadapter.py\", line 89, in new_function\n",
      "    return func(*args, **kw)\n",
      "  File \"c:\\gabrielfloreadata\\tvb_rest\\tvb-root-fork\\tvb-root\\framework_tvb\\tvb\\core\\adapters\\abcadapter.py\", line 378, in _prelaunch\n",
      "    self.__check_integrity(result)\n",
      "  File \"c:\\gabrielfloreadata\\tvb_rest\\tvb-root-fork\\tvb-root\\framework_tvb\\tvb\\core\\adapters\\abcadapter.py\", line 438, in __check_integrity\n",
      "    raise InvalidParameterException(msg % type(result_entity))\n",
      "tvb.core.adapters.exceptions.InvalidParameterException: Unexpected output DataType <class 'tvb.core.entities.model.model_datatype.DataType'>\n"
     ]
    },
    {
     "ename": "OperationException",
     "evalue": "Unexpected output DataType <class 'tvb.core.entities.model.model_datatype.DataType'>",
     "output_type": "error",
     "traceback": [
      "\u001b[1;31m---------------------------------------------------------------------------\u001b[0m",
      "\u001b[1;31mInvalidParameterException\u001b[0m                 Traceback (most recent call last)",
      "\u001b[1;32mc:\\gabrielfloreadata\\tvb_rest\\tvb-root-fork\\tvb-root\\framework_tvb\\tvb\\core\\services\\flow_service.py\u001b[0m in \u001b[0;36mfire_operation\u001b[1;34m(self, adapter_instance, current_user, project_id, visible, view_model, **data)\u001b[0m\n\u001b[0;32m    177\u001b[0m             result = OperationService().initiate_operation(current_user, project, adapter_instance, visible,\n\u001b[1;32m--> 178\u001b[1;33m                                                            model_view=view_model, **data)\n\u001b[0m\u001b[0;32m    179\u001b[0m             \u001b[0mself\u001b[0m\u001b[1;33m.\u001b[0m\u001b[0mlogger\u001b[0m\u001b[1;33m.\u001b[0m\u001b[0minfo\u001b[0m\u001b[1;33m(\u001b[0m\u001b[1;34m\"Finished operation launch:\"\u001b[0m \u001b[1;33m+\u001b[0m \u001b[0moperation_name\u001b[0m\u001b[1;33m)\u001b[0m\u001b[1;33m\u001b[0m\u001b[1;33m\u001b[0m\u001b[0m\n",
      "\u001b[1;32mc:\\gabrielfloreadata\\tvb_rest\\tvb-root-fork\\tvb-root\\framework_tvb\\tvb\\core\\services\\operation_service.py\u001b[0m in \u001b[0;36minitiate_operation\u001b[1;34m(self, current_user, project, adapter_instance, visible, model_view, **kwargs)\u001b[0m\n\u001b[0;32m    125\u001b[0m                 \u001b[1;32mraise\u001b[0m \u001b[0mLaunchException\u001b[0m\u001b[1;33m(\u001b[0m\u001b[1;34m\"Invalid empty Operation!!!\"\u001b[0m\u001b[1;33m)\u001b[0m\u001b[1;33m\u001b[0m\u001b[1;33m\u001b[0m\u001b[0m\n\u001b[1;32m--> 126\u001b[1;33m             \u001b[1;32mreturn\u001b[0m \u001b[0mself\u001b[0m\u001b[1;33m.\u001b[0m\u001b[0minitiate_prelaunch\u001b[0m\u001b[1;33m(\u001b[0m\u001b[0moperations\u001b[0m\u001b[1;33m[\u001b[0m\u001b[1;36m0\u001b[0m\u001b[1;33m]\u001b[0m\u001b[1;33m,\u001b[0m \u001b[0madapter_instance\u001b[0m\u001b[1;33m,\u001b[0m \u001b[1;33m**\u001b[0m\u001b[0mkwargs\u001b[0m\u001b[1;33m)\u001b[0m\u001b[1;33m\u001b[0m\u001b[1;33m\u001b[0m\u001b[0m\n\u001b[0m\u001b[0;32m    127\u001b[0m         \u001b[1;32melse\u001b[0m\u001b[1;33m:\u001b[0m\u001b[1;33m\u001b[0m\u001b[1;33m\u001b[0m\u001b[0m\n",
      "\u001b[1;32mc:\\gabrielfloreadata\\tvb_rest\\tvb-root-fork\\tvb-root\\framework_tvb\\tvb\\core\\services\\operation_service.py\u001b[0m in \u001b[0;36minitiate_prelaunch\u001b[1;34m(self, operation, adapter_instance, **kwargs)\u001b[0m\n\u001b[0;32m    341\u001b[0m         \u001b[1;32mexcept\u001b[0m \u001b[0mTVBException\u001b[0m \u001b[1;32mas\u001b[0m \u001b[0mexcep\u001b[0m\u001b[1;33m:\u001b[0m\u001b[1;33m\u001b[0m\u001b[1;33m\u001b[0m\u001b[0m\n\u001b[1;32m--> 342\u001b[1;33m             \u001b[0mself\u001b[0m\u001b[1;33m.\u001b[0m\u001b[0m_handle_exception\u001b[0m\u001b[1;33m(\u001b[0m\u001b[0mexcep\u001b[0m\u001b[1;33m,\u001b[0m \u001b[0mtemp_files\u001b[0m\u001b[1;33m,\u001b[0m \u001b[0mexcep\u001b[0m\u001b[1;33m.\u001b[0m\u001b[0mmessage\u001b[0m\u001b[1;33m,\u001b[0m \u001b[0moperation\u001b[0m\u001b[1;33m)\u001b[0m\u001b[1;33m\u001b[0m\u001b[1;33m\u001b[0m\u001b[0m\n\u001b[0m\u001b[0;32m    343\u001b[0m         \u001b[1;32mexcept\u001b[0m \u001b[0mMemoryError\u001b[0m\u001b[1;33m:\u001b[0m\u001b[1;33m\u001b[0m\u001b[1;33m\u001b[0m\u001b[0m\n",
      "\u001b[1;32mc:\\gabrielfloreadata\\tvb_rest\\tvb-root-fork\\tvb-root\\framework_tvb\\tvb\\core\\services\\operation_service.py\u001b[0m in \u001b[0;36m_handle_exception\u001b[1;34m(self, exception, temp_files, message, operation)\u001b[0m\n\u001b[0;32m    394\u001b[0m         raise exception.with_traceback(\n\u001b[1;32m--> 395\u001b[1;33m             sys.exc_info()[2])  # when rethrowing in python this is required to preserve the stack trace\n\u001b[0m\u001b[0;32m    396\u001b[0m \u001b[1;33m\u001b[0m\u001b[0m\n",
      "\u001b[1;32mc:\\gabrielfloreadata\\tvb_rest\\tvb-root-fork\\tvb-root\\framework_tvb\\tvb\\core\\services\\operation_service.py\u001b[0m in \u001b[0;36minitiate_prelaunch\u001b[1;34m(self, operation, adapter_instance, **kwargs)\u001b[0m\n\u001b[0;32m    320\u001b[0m             \u001b[0mview_model\u001b[0m \u001b[1;33m=\u001b[0m \u001b[0mself\u001b[0m\u001b[1;33m.\u001b[0m\u001b[0mload_view_model\u001b[0m\u001b[1;33m(\u001b[0m\u001b[0madapter_instance\u001b[0m\u001b[1;33m,\u001b[0m \u001b[0moperation\u001b[0m\u001b[1;33m)\u001b[0m\u001b[1;33m\u001b[0m\u001b[1;33m\u001b[0m\u001b[0m\n\u001b[1;32m--> 321\u001b[1;33m             \u001b[0mresult_msg\u001b[0m\u001b[1;33m,\u001b[0m \u001b[0mnr_datatypes\u001b[0m \u001b[1;33m=\u001b[0m \u001b[0madapter_instance\u001b[0m\u001b[1;33m.\u001b[0m\u001b[0m_prelaunch\u001b[0m\u001b[1;33m(\u001b[0m\u001b[0moperation\u001b[0m\u001b[1;33m,\u001b[0m \u001b[0munique_id\u001b[0m\u001b[1;33m,\u001b[0m \u001b[0mavailable_space\u001b[0m\u001b[1;33m,\u001b[0m \u001b[0mview_model\u001b[0m\u001b[1;33m)\u001b[0m\u001b[1;33m\u001b[0m\u001b[1;33m\u001b[0m\u001b[0m\n\u001b[0m\u001b[0;32m    322\u001b[0m             \u001b[0moperation\u001b[0m \u001b[1;33m=\u001b[0m \u001b[0mdao\u001b[0m\u001b[1;33m.\u001b[0m\u001b[0mget_operation_by_id\u001b[0m\u001b[1;33m(\u001b[0m\u001b[0moperation\u001b[0m\u001b[1;33m.\u001b[0m\u001b[0mid\u001b[0m\u001b[1;33m)\u001b[0m\u001b[1;33m\u001b[0m\u001b[1;33m\u001b[0m\u001b[0m\n",
      "\u001b[1;32mc:\\gabrielfloreadata\\tvb_rest\\tvb-root-fork\\tvb-root\\framework_tvb\\tvb\\core\\adapters\\abcuploader.py\u001b[0m in \u001b[0;36m_prelaunch\u001b[1;34m(self, operation, uid, available_disk_space, view_model, **kwargs)\u001b[0m\n\u001b[0;32m     79\u001b[0m \u001b[1;33m\u001b[0m\u001b[0m\n\u001b[1;32m---> 80\u001b[1;33m         \u001b[1;32mreturn\u001b[0m \u001b[0mABCSynchronous\u001b[0m\u001b[1;33m.\u001b[0m\u001b[0m_prelaunch\u001b[0m\u001b[1;33m(\u001b[0m\u001b[0mself\u001b[0m\u001b[1;33m,\u001b[0m \u001b[0moperation\u001b[0m\u001b[1;33m,\u001b[0m \u001b[0muid\u001b[0m\u001b[1;33m,\u001b[0m \u001b[0mavailable_disk_space\u001b[0m\u001b[1;33m,\u001b[0m \u001b[0mview_model\u001b[0m\u001b[1;33m,\u001b[0m \u001b[1;33m**\u001b[0m\u001b[0mkwargs\u001b[0m\u001b[1;33m)\u001b[0m\u001b[1;33m\u001b[0m\u001b[1;33m\u001b[0m\u001b[0m\n\u001b[0m\u001b[0;32m     81\u001b[0m \u001b[1;33m\u001b[0m\u001b[0m\n",
      "\u001b[1;32mc:\\gabrielfloreadata\\tvb_rest\\tvb-root-fork\\tvb-root\\framework_tvb\\tvb\\core\\adapters\\abcadapter.py\u001b[0m in \u001b[0;36mnew_function\u001b[1;34m(*args, **kw)\u001b[0m\n\u001b[0;32m     88\u001b[0m             \u001b[1;32mtry\u001b[0m\u001b[1;33m:\u001b[0m\u001b[1;33m\u001b[0m\u001b[1;33m\u001b[0m\u001b[0m\n\u001b[1;32m---> 89\u001b[1;33m                 \u001b[1;32mreturn\u001b[0m \u001b[0mfunc\u001b[0m\u001b[1;33m(\u001b[0m\u001b[1;33m*\u001b[0m\u001b[0margs\u001b[0m\u001b[1;33m,\u001b[0m \u001b[1;33m**\u001b[0m\u001b[0mkw\u001b[0m\u001b[1;33m)\u001b[0m\u001b[1;33m\u001b[0m\u001b[1;33m\u001b[0m\u001b[0m\n\u001b[0m\u001b[0;32m     90\u001b[0m             \u001b[1;32mexcept\u001b[0m \u001b[0mFloatingPointError\u001b[0m\u001b[1;33m:\u001b[0m\u001b[1;33m\u001b[0m\u001b[1;33m\u001b[0m\u001b[0m\n",
      "\u001b[1;32mc:\\gabrielfloreadata\\tvb_rest\\tvb-root-fork\\tvb-root\\framework_tvb\\tvb\\core\\adapters\\abcadapter.py\u001b[0m in \u001b[0;36m_prelaunch\u001b[1;34m(self, operation, uid, available_disk_space, view_model, **kwargs)\u001b[0m\n\u001b[0;32m    377\u001b[0m             \u001b[0mresult\u001b[0m \u001b[1;33m=\u001b[0m \u001b[1;33m[\u001b[0m\u001b[0mresult\u001b[0m\u001b[1;33m,\u001b[0m \u001b[1;33m]\u001b[0m\u001b[1;33m\u001b[0m\u001b[1;33m\u001b[0m\u001b[0m\n\u001b[1;32m--> 378\u001b[1;33m         \u001b[0mself\u001b[0m\u001b[1;33m.\u001b[0m\u001b[0m__check_integrity\u001b[0m\u001b[1;33m(\u001b[0m\u001b[0mresult\u001b[0m\u001b[1;33m)\u001b[0m\u001b[1;33m\u001b[0m\u001b[1;33m\u001b[0m\u001b[0m\n\u001b[0m\u001b[0;32m    379\u001b[0m         \u001b[1;32mreturn\u001b[0m \u001b[0mself\u001b[0m\u001b[1;33m.\u001b[0m\u001b[0m_capture_operation_results\u001b[0m\u001b[1;33m(\u001b[0m\u001b[0mresult\u001b[0m\u001b[1;33m)\u001b[0m\u001b[1;33m\u001b[0m\u001b[1;33m\u001b[0m\u001b[0m\n",
      "\u001b[1;32mc:\\gabrielfloreadata\\tvb_rest\\tvb-root-fork\\tvb-root\\framework_tvb\\tvb\\core\\adapters\\abcadapter.py\u001b[0m in \u001b[0;36m__check_integrity\u001b[1;34m(self, result)\u001b[0m\n\u001b[0;32m    437\u001b[0m                 \u001b[0mmsg\u001b[0m \u001b[1;33m=\u001b[0m \u001b[1;34m\"Unexpected output DataType %s\"\u001b[0m\u001b[1;33m\u001b[0m\u001b[1;33m\u001b[0m\u001b[0m\n\u001b[1;32m--> 438\u001b[1;33m                 \u001b[1;32mraise\u001b[0m \u001b[0mInvalidParameterException\u001b[0m\u001b[1;33m(\u001b[0m\u001b[0mmsg\u001b[0m \u001b[1;33m%\u001b[0m \u001b[0mtype\u001b[0m\u001b[1;33m(\u001b[0m\u001b[0mresult_entity\u001b[0m\u001b[1;33m)\u001b[0m\u001b[1;33m)\u001b[0m\u001b[1;33m\u001b[0m\u001b[1;33m\u001b[0m\u001b[0m\n\u001b[0m\u001b[0;32m    439\u001b[0m \u001b[1;33m\u001b[0m\u001b[0m\n",
      "\u001b[1;31mInvalidParameterException\u001b[0m: Unexpected output DataType <class 'tvb.core.entities.model.model_datatype.DataType'>",
      "\nDuring handling of the above exception, another exception occurred:\n",
      "\u001b[1;31mOperationException\u001b[0m                        Traceback (most recent call last)",
      "\u001b[1;32m<ipython-input-7-3614a636001a>\u001b[0m in \u001b[0;36m<module>\u001b[1;34m\u001b[0m\n\u001b[0;32m      2\u001b[0m \u001b[1;33m\u001b[0m\u001b[0m\n\u001b[0;32m      3\u001b[0m \u001b[0mzip_path\u001b[0m \u001b[1;33m=\u001b[0m \u001b[0mos\u001b[0m\u001b[1;33m.\u001b[0m\u001b[0mpath\u001b[0m\u001b[1;33m.\u001b[0m\u001b[0mjoin\u001b[0m\u001b[1;33m(\u001b[0m\u001b[0mos\u001b[0m\u001b[1;33m.\u001b[0m\u001b[0mpath\u001b[0m\u001b[1;33m.\u001b[0m\u001b[0mdirname\u001b[0m\u001b[1;33m(\u001b[0m\u001b[0mtvb_data\u001b[0m\u001b[1;33m.\u001b[0m\u001b[0m__file__\u001b[0m\u001b[1;33m)\u001b[0m\u001b[1;33m,\u001b[0m \u001b[1;34m'connectivity'\u001b[0m\u001b[1;33m,\u001b[0m \u001b[1;34m'connectivity_96.zip'\u001b[0m\u001b[1;33m)\u001b[0m\u001b[1;33m\u001b[0m\u001b[1;33m\u001b[0m\u001b[0m\n\u001b[1;32m----> 4\u001b[1;33m \u001b[0mTestFactory\u001b[0m\u001b[1;33m.\u001b[0m\u001b[0mimport_zip_connectivity\u001b[0m\u001b[1;33m(\u001b[0m\u001b[0mtest_user\u001b[0m\u001b[1;33m,\u001b[0m \u001b[0mtest_project\u001b[0m\u001b[1;33m,\u001b[0m \u001b[0mzip_path\u001b[0m\u001b[1;33m)\u001b[0m\u001b[1;33m\u001b[0m\u001b[1;33m\u001b[0m\u001b[0m\n\u001b[0m\u001b[0;32m      5\u001b[0m \u001b[0mdatatypes_in_project\u001b[0m \u001b[1;33m=\u001b[0m \u001b[0mget_data_in_project_resource\u001b[0m\u001b[1;33m.\u001b[0m\u001b[0mget\u001b[0m\u001b[1;33m(\u001b[0m\u001b[0mtest_project\u001b[0m\u001b[1;33m.\u001b[0m\u001b[0mgid\u001b[0m\u001b[1;33m)\u001b[0m\u001b[1;33m\u001b[0m\u001b[1;33m\u001b[0m\u001b[0m\n",
      "\u001b[1;32mc:\\gabrielfloreadata\\tvb_rest\\tvb-root-fork\\tvb-root\\framework_tvb\\tvb\\tests\\framework\\core\\factory.py\u001b[0m in \u001b[0;36mimport_zip_connectivity\u001b[1;34m(user, project, zip_path, subject)\u001b[0m\n\u001b[0;32m    376\u001b[0m \u001b[1;33m\u001b[0m\u001b[0m\n\u001b[0;32m    377\u001b[0m         \u001b[1;31m# Launch Operation\u001b[0m\u001b[1;33m\u001b[0m\u001b[1;33m\u001b[0m\u001b[1;33m\u001b[0m\u001b[0m\n\u001b[1;32m--> 378\u001b[1;33m         \u001b[0mFlowService\u001b[0m\u001b[1;33m(\u001b[0m\u001b[1;33m)\u001b[0m\u001b[1;33m.\u001b[0m\u001b[0mfire_operation\u001b[0m\u001b[1;33m(\u001b[0m\u001b[0mimporter\u001b[0m\u001b[1;33m,\u001b[0m \u001b[0muser\u001b[0m\u001b[1;33m,\u001b[0m \u001b[0mproject\u001b[0m\u001b[1;33m.\u001b[0m\u001b[0mid\u001b[0m\u001b[1;33m,\u001b[0m \u001b[0mview_model\u001b[0m\u001b[1;33m=\u001b[0m\u001b[0mview_model\u001b[0m\u001b[1;33m)\u001b[0m\u001b[1;33m\u001b[0m\u001b[1;33m\u001b[0m\u001b[0m\n\u001b[0m\u001b[0;32m    379\u001b[0m \u001b[1;33m\u001b[0m\u001b[0m\n\u001b[0;32m    380\u001b[0m \u001b[1;33m\u001b[0m\u001b[0m\n",
      "\u001b[1;32mc:\\gabrielfloreadata\\tvb_rest\\tvb-root-fork\\tvb-root\\framework_tvb\\tvb\\core\\services\\flow_service.py\u001b[0m in \u001b[0;36mfire_operation\u001b[1;34m(self, adapter_instance, current_user, project_id, visible, view_model, **data)\u001b[0m\n\u001b[0;32m    183\u001b[0m             self.logger.exception(\"Could not launch operation \" + operation_name +\n\u001b[0;32m    184\u001b[0m                                   \" with the given set of input data, because: \" + excep.message)\n\u001b[1;32m--> 185\u001b[1;33m             \u001b[1;32mraise\u001b[0m \u001b[0mOperationException\u001b[0m\u001b[1;33m(\u001b[0m\u001b[0mexcep\u001b[0m\u001b[1;33m.\u001b[0m\u001b[0mmessage\u001b[0m\u001b[1;33m,\u001b[0m \u001b[0mexcep\u001b[0m\u001b[1;33m)\u001b[0m\u001b[1;33m\u001b[0m\u001b[1;33m\u001b[0m\u001b[0m\n\u001b[0m\u001b[0;32m    186\u001b[0m         \u001b[1;32mexcept\u001b[0m \u001b[0mException\u001b[0m \u001b[1;32mas\u001b[0m \u001b[0mexcep\u001b[0m\u001b[1;33m:\u001b[0m\u001b[1;33m\u001b[0m\u001b[1;33m\u001b[0m\u001b[0m\n\u001b[0;32m    187\u001b[0m             \u001b[0mself\u001b[0m\u001b[1;33m.\u001b[0m\u001b[0mlogger\u001b[0m\u001b[1;33m.\u001b[0m\u001b[0mexception\u001b[0m\u001b[1;33m(\u001b[0m\u001b[1;34m\"Could not launch operation \"\u001b[0m \u001b[1;33m+\u001b[0m \u001b[0moperation_name\u001b[0m \u001b[1;33m+\u001b[0m \u001b[1;34m\" with the given set of input data!\"\u001b[0m\u001b[1;33m)\u001b[0m\u001b[1;33m\u001b[0m\u001b[1;33m\u001b[0m\u001b[0m\n",
      "\u001b[1;31mOperationException\u001b[0m: Unexpected output DataType <class 'tvb.core.entities.model.model_datatype.DataType'>"
     ]
    }
   ],
   "source": [
    "### Get operation for datatype\n",
    "\n",
    "zip_path = os.path.join(os.path.dirname(tvb_data.__file__), 'connectivity', 'connectivity_96.zip')\n",
    "TestFactory.import_zip_connectivity(test_user, test_project, zip_path)\n",
    "datatypes_in_project = get_data_in_project_resource.get(test_project.gid)\n",
    "print(datatypes_in_project)\n"
   ]
  },
  {
   "cell_type": "code",
   "execution_count": 9,
   "metadata": {},
   "outputs": [],
   "source": [
    "### Clean\n",
    "\n",
    "FilesHelper().remove_project_structure(test_project.name)\n"
   ]
  },
  {
   "cell_type": "markdown",
   "metadata": {},
   "source": [
    "## Operation resources"
   ]
  },
  {
   "cell_type": "code",
   "execution_count": 13,
   "metadata": {},
   "outputs": [],
   "source": [
    "### Initialization of used data\n",
    "\n",
    "test_user = TestFactory.create_user('Rest_User9')\n",
    "test_project = TestFactory.create_project(test_user, 'Rest_Project9')\n",
    "operations_resource = GetOperationsInProjectResource()\n",
    "status_resource = GetOperationStatusResource()\n",
    "results_resource = GetOperationResultsResource()\n",
    "launch_resource = LaunchOperationResource()\n",
    "files_helper = FilesHelper()\n"
   ]
  },
  {
   "cell_type": "code",
   "execution_count": 14,
   "metadata": {},
   "outputs": [
    {
     "name": "stdout",
     "output_type": "stream",
     "text": [
      "2020-02-28 10:39:43,016 - INFO - tvb.core.services.flow_service - Starting operation ZIPConnectivityImporter\n",
      "2020-02-28 10:39:43,223 - ERROR - tvb.core.services.operation_service - Unexpected output DataType <class 'tvb.core.entities.model.model_datatype.DataType'>\n",
      "Traceback (most recent call last):\n",
      "  File \"c:\\gabrielfloreadata\\tvb_rest\\tvb-root-fork\\tvb-root\\framework_tvb\\tvb\\core\\services\\operation_service.py\", line 321, in initiate_prelaunch\n",
      "    result_msg, nr_datatypes = adapter_instance._prelaunch(operation, unique_id, available_space, view_model)\n",
      "  File \"c:\\gabrielfloreadata\\tvb_rest\\tvb-root-fork\\tvb-root\\framework_tvb\\tvb\\core\\adapters\\abcuploader.py\", line 80, in _prelaunch\n",
      "    return ABCSynchronous._prelaunch(self, operation, uid, available_disk_space, view_model, **kwargs)\n",
      "  File \"c:\\gabrielfloreadata\\tvb_rest\\tvb-root-fork\\tvb-root\\framework_tvb\\tvb\\core\\adapters\\abcadapter.py\", line 89, in new_function\n",
      "    return func(*args, **kw)\n",
      "  File \"c:\\gabrielfloreadata\\tvb_rest\\tvb-root-fork\\tvb-root\\framework_tvb\\tvb\\core\\adapters\\abcadapter.py\", line 378, in _prelaunch\n",
      "    self.__check_integrity(result)\n",
      "  File \"c:\\gabrielfloreadata\\tvb_rest\\tvb-root-fork\\tvb-root\\framework_tvb\\tvb\\core\\adapters\\abcadapter.py\", line 438, in __check_integrity\n",
      "    raise InvalidParameterException(msg % type(result_entity))\n",
      "tvb.core.adapters.exceptions.InvalidParameterException: Unexpected output DataType <class 'tvb.core.entities.model.model_datatype.DataType'>\n",
      "2020-02-28 10:39:43,261 - ERROR - tvb.core.services.flow_service - Could not launch operation ZIPConnectivityImporter with the given set of input data, because: Unexpected output DataType <class 'tvb.core.entities.model.model_datatype.DataType'>\n",
      "Traceback (most recent call last):\n",
      "  File \"c:\\gabrielfloreadata\\tvb_rest\\tvb-root-fork\\tvb-root\\framework_tvb\\tvb\\core\\services\\flow_service.py\", line 178, in fire_operation\n",
      "    model_view=view_model, **data)\n",
      "  File \"c:\\gabrielfloreadata\\tvb_rest\\tvb-root-fork\\tvb-root\\framework_tvb\\tvb\\core\\services\\operation_service.py\", line 126, in initiate_operation\n",
      "    return self.initiate_prelaunch(operations[0], adapter_instance, **kwargs)\n",
      "  File \"c:\\gabrielfloreadata\\tvb_rest\\tvb-root-fork\\tvb-root\\framework_tvb\\tvb\\core\\services\\operation_service.py\", line 342, in initiate_prelaunch\n",
      "    self._handle_exception(excep, temp_files, excep.message, operation)\n",
      "  File \"c:\\gabrielfloreadata\\tvb_rest\\tvb-root-fork\\tvb-root\\framework_tvb\\tvb\\core\\services\\operation_service.py\", line 395, in _handle_exception\n",
      "    sys.exc_info()[2])  # when rethrowing in python this is required to preserve the stack trace\n",
      "  File \"c:\\gabrielfloreadata\\tvb_rest\\tvb-root-fork\\tvb-root\\framework_tvb\\tvb\\core\\services\\operation_service.py\", line 321, in initiate_prelaunch\n",
      "    result_msg, nr_datatypes = adapter_instance._prelaunch(operation, unique_id, available_space, view_model)\n",
      "  File \"c:\\gabrielfloreadata\\tvb_rest\\tvb-root-fork\\tvb-root\\framework_tvb\\tvb\\core\\adapters\\abcuploader.py\", line 80, in _prelaunch\n",
      "    return ABCSynchronous._prelaunch(self, operation, uid, available_disk_space, view_model, **kwargs)\n",
      "  File \"c:\\gabrielfloreadata\\tvb_rest\\tvb-root-fork\\tvb-root\\framework_tvb\\tvb\\core\\adapters\\abcadapter.py\", line 89, in new_function\n",
      "    return func(*args, **kw)\n",
      "  File \"c:\\gabrielfloreadata\\tvb_rest\\tvb-root-fork\\tvb-root\\framework_tvb\\tvb\\core\\adapters\\abcadapter.py\", line 378, in _prelaunch\n",
      "    self.__check_integrity(result)\n",
      "  File \"c:\\gabrielfloreadata\\tvb_rest\\tvb-root-fork\\tvb-root\\framework_tvb\\tvb\\core\\adapters\\abcadapter.py\", line 438, in __check_integrity\n",
      "    raise InvalidParameterException(msg % type(result_entity))\n",
      "tvb.core.adapters.exceptions.InvalidParameterException: Unexpected output DataType <class 'tvb.core.entities.model.model_datatype.DataType'>\n"
     ]
    },
    {
     "ename": "OperationException",
     "evalue": "Unexpected output DataType <class 'tvb.core.entities.model.model_datatype.DataType'>",
     "output_type": "error",
     "traceback": [
      "\u001b[1;31m---------------------------------------------------------------------------\u001b[0m",
      "\u001b[1;31mInvalidParameterException\u001b[0m                 Traceback (most recent call last)",
      "\u001b[1;32mc:\\gabrielfloreadata\\tvb_rest\\tvb-root-fork\\tvb-root\\framework_tvb\\tvb\\core\\services\\flow_service.py\u001b[0m in \u001b[0;36mfire_operation\u001b[1;34m(self, adapter_instance, current_user, project_id, visible, view_model, **data)\u001b[0m\n\u001b[0;32m    177\u001b[0m             result = OperationService().initiate_operation(current_user, project, adapter_instance, visible,\n\u001b[1;32m--> 178\u001b[1;33m                                                            model_view=view_model, **data)\n\u001b[0m\u001b[0;32m    179\u001b[0m             \u001b[0mself\u001b[0m\u001b[1;33m.\u001b[0m\u001b[0mlogger\u001b[0m\u001b[1;33m.\u001b[0m\u001b[0minfo\u001b[0m\u001b[1;33m(\u001b[0m\u001b[1;34m\"Finished operation launch:\"\u001b[0m \u001b[1;33m+\u001b[0m \u001b[0moperation_name\u001b[0m\u001b[1;33m)\u001b[0m\u001b[1;33m\u001b[0m\u001b[1;33m\u001b[0m\u001b[0m\n",
      "\u001b[1;32mc:\\gabrielfloreadata\\tvb_rest\\tvb-root-fork\\tvb-root\\framework_tvb\\tvb\\core\\services\\operation_service.py\u001b[0m in \u001b[0;36minitiate_operation\u001b[1;34m(self, current_user, project, adapter_instance, visible, model_view, **kwargs)\u001b[0m\n\u001b[0;32m    125\u001b[0m                 \u001b[1;32mraise\u001b[0m \u001b[0mLaunchException\u001b[0m\u001b[1;33m(\u001b[0m\u001b[1;34m\"Invalid empty Operation!!!\"\u001b[0m\u001b[1;33m)\u001b[0m\u001b[1;33m\u001b[0m\u001b[1;33m\u001b[0m\u001b[0m\n\u001b[1;32m--> 126\u001b[1;33m             \u001b[1;32mreturn\u001b[0m \u001b[0mself\u001b[0m\u001b[1;33m.\u001b[0m\u001b[0minitiate_prelaunch\u001b[0m\u001b[1;33m(\u001b[0m\u001b[0moperations\u001b[0m\u001b[1;33m[\u001b[0m\u001b[1;36m0\u001b[0m\u001b[1;33m]\u001b[0m\u001b[1;33m,\u001b[0m \u001b[0madapter_instance\u001b[0m\u001b[1;33m,\u001b[0m \u001b[1;33m**\u001b[0m\u001b[0mkwargs\u001b[0m\u001b[1;33m)\u001b[0m\u001b[1;33m\u001b[0m\u001b[1;33m\u001b[0m\u001b[0m\n\u001b[0m\u001b[0;32m    127\u001b[0m         \u001b[1;32melse\u001b[0m\u001b[1;33m:\u001b[0m\u001b[1;33m\u001b[0m\u001b[1;33m\u001b[0m\u001b[0m\n",
      "\u001b[1;32mc:\\gabrielfloreadata\\tvb_rest\\tvb-root-fork\\tvb-root\\framework_tvb\\tvb\\core\\services\\operation_service.py\u001b[0m in \u001b[0;36minitiate_prelaunch\u001b[1;34m(self, operation, adapter_instance, **kwargs)\u001b[0m\n\u001b[0;32m    341\u001b[0m         \u001b[1;32mexcept\u001b[0m \u001b[0mTVBException\u001b[0m \u001b[1;32mas\u001b[0m \u001b[0mexcep\u001b[0m\u001b[1;33m:\u001b[0m\u001b[1;33m\u001b[0m\u001b[1;33m\u001b[0m\u001b[0m\n\u001b[1;32m--> 342\u001b[1;33m             \u001b[0mself\u001b[0m\u001b[1;33m.\u001b[0m\u001b[0m_handle_exception\u001b[0m\u001b[1;33m(\u001b[0m\u001b[0mexcep\u001b[0m\u001b[1;33m,\u001b[0m \u001b[0mtemp_files\u001b[0m\u001b[1;33m,\u001b[0m \u001b[0mexcep\u001b[0m\u001b[1;33m.\u001b[0m\u001b[0mmessage\u001b[0m\u001b[1;33m,\u001b[0m \u001b[0moperation\u001b[0m\u001b[1;33m)\u001b[0m\u001b[1;33m\u001b[0m\u001b[1;33m\u001b[0m\u001b[0m\n\u001b[0m\u001b[0;32m    343\u001b[0m         \u001b[1;32mexcept\u001b[0m \u001b[0mMemoryError\u001b[0m\u001b[1;33m:\u001b[0m\u001b[1;33m\u001b[0m\u001b[1;33m\u001b[0m\u001b[0m\n",
      "\u001b[1;32mc:\\gabrielfloreadata\\tvb_rest\\tvb-root-fork\\tvb-root\\framework_tvb\\tvb\\core\\services\\operation_service.py\u001b[0m in \u001b[0;36m_handle_exception\u001b[1;34m(self, exception, temp_files, message, operation)\u001b[0m\n\u001b[0;32m    394\u001b[0m         raise exception.with_traceback(\n\u001b[1;32m--> 395\u001b[1;33m             sys.exc_info()[2])  # when rethrowing in python this is required to preserve the stack trace\n\u001b[0m\u001b[0;32m    396\u001b[0m \u001b[1;33m\u001b[0m\u001b[0m\n",
      "\u001b[1;32mc:\\gabrielfloreadata\\tvb_rest\\tvb-root-fork\\tvb-root\\framework_tvb\\tvb\\core\\services\\operation_service.py\u001b[0m in \u001b[0;36minitiate_prelaunch\u001b[1;34m(self, operation, adapter_instance, **kwargs)\u001b[0m\n\u001b[0;32m    320\u001b[0m             \u001b[0mview_model\u001b[0m \u001b[1;33m=\u001b[0m \u001b[0mself\u001b[0m\u001b[1;33m.\u001b[0m\u001b[0mload_view_model\u001b[0m\u001b[1;33m(\u001b[0m\u001b[0madapter_instance\u001b[0m\u001b[1;33m,\u001b[0m \u001b[0moperation\u001b[0m\u001b[1;33m)\u001b[0m\u001b[1;33m\u001b[0m\u001b[1;33m\u001b[0m\u001b[0m\n\u001b[1;32m--> 321\u001b[1;33m             \u001b[0mresult_msg\u001b[0m\u001b[1;33m,\u001b[0m \u001b[0mnr_datatypes\u001b[0m \u001b[1;33m=\u001b[0m \u001b[0madapter_instance\u001b[0m\u001b[1;33m.\u001b[0m\u001b[0m_prelaunch\u001b[0m\u001b[1;33m(\u001b[0m\u001b[0moperation\u001b[0m\u001b[1;33m,\u001b[0m \u001b[0munique_id\u001b[0m\u001b[1;33m,\u001b[0m \u001b[0mavailable_space\u001b[0m\u001b[1;33m,\u001b[0m \u001b[0mview_model\u001b[0m\u001b[1;33m)\u001b[0m\u001b[1;33m\u001b[0m\u001b[1;33m\u001b[0m\u001b[0m\n\u001b[0m\u001b[0;32m    322\u001b[0m             \u001b[0moperation\u001b[0m \u001b[1;33m=\u001b[0m \u001b[0mdao\u001b[0m\u001b[1;33m.\u001b[0m\u001b[0mget_operation_by_id\u001b[0m\u001b[1;33m(\u001b[0m\u001b[0moperation\u001b[0m\u001b[1;33m.\u001b[0m\u001b[0mid\u001b[0m\u001b[1;33m)\u001b[0m\u001b[1;33m\u001b[0m\u001b[1;33m\u001b[0m\u001b[0m\n",
      "\u001b[1;32mc:\\gabrielfloreadata\\tvb_rest\\tvb-root-fork\\tvb-root\\framework_tvb\\tvb\\core\\adapters\\abcuploader.py\u001b[0m in \u001b[0;36m_prelaunch\u001b[1;34m(self, operation, uid, available_disk_space, view_model, **kwargs)\u001b[0m\n\u001b[0;32m     79\u001b[0m \u001b[1;33m\u001b[0m\u001b[0m\n\u001b[1;32m---> 80\u001b[1;33m         \u001b[1;32mreturn\u001b[0m \u001b[0mABCSynchronous\u001b[0m\u001b[1;33m.\u001b[0m\u001b[0m_prelaunch\u001b[0m\u001b[1;33m(\u001b[0m\u001b[0mself\u001b[0m\u001b[1;33m,\u001b[0m \u001b[0moperation\u001b[0m\u001b[1;33m,\u001b[0m \u001b[0muid\u001b[0m\u001b[1;33m,\u001b[0m \u001b[0mavailable_disk_space\u001b[0m\u001b[1;33m,\u001b[0m \u001b[0mview_model\u001b[0m\u001b[1;33m,\u001b[0m \u001b[1;33m**\u001b[0m\u001b[0mkwargs\u001b[0m\u001b[1;33m)\u001b[0m\u001b[1;33m\u001b[0m\u001b[1;33m\u001b[0m\u001b[0m\n\u001b[0m\u001b[0;32m     81\u001b[0m \u001b[1;33m\u001b[0m\u001b[0m\n",
      "\u001b[1;32mc:\\gabrielfloreadata\\tvb_rest\\tvb-root-fork\\tvb-root\\framework_tvb\\tvb\\core\\adapters\\abcadapter.py\u001b[0m in \u001b[0;36mnew_function\u001b[1;34m(*args, **kw)\u001b[0m\n\u001b[0;32m     88\u001b[0m             \u001b[1;32mtry\u001b[0m\u001b[1;33m:\u001b[0m\u001b[1;33m\u001b[0m\u001b[1;33m\u001b[0m\u001b[0m\n\u001b[1;32m---> 89\u001b[1;33m                 \u001b[1;32mreturn\u001b[0m \u001b[0mfunc\u001b[0m\u001b[1;33m(\u001b[0m\u001b[1;33m*\u001b[0m\u001b[0margs\u001b[0m\u001b[1;33m,\u001b[0m \u001b[1;33m**\u001b[0m\u001b[0mkw\u001b[0m\u001b[1;33m)\u001b[0m\u001b[1;33m\u001b[0m\u001b[1;33m\u001b[0m\u001b[0m\n\u001b[0m\u001b[0;32m     90\u001b[0m             \u001b[1;32mexcept\u001b[0m \u001b[0mFloatingPointError\u001b[0m\u001b[1;33m:\u001b[0m\u001b[1;33m\u001b[0m\u001b[1;33m\u001b[0m\u001b[0m\n",
      "\u001b[1;32mc:\\gabrielfloreadata\\tvb_rest\\tvb-root-fork\\tvb-root\\framework_tvb\\tvb\\core\\adapters\\abcadapter.py\u001b[0m in \u001b[0;36m_prelaunch\u001b[1;34m(self, operation, uid, available_disk_space, view_model, **kwargs)\u001b[0m\n\u001b[0;32m    377\u001b[0m             \u001b[0mresult\u001b[0m \u001b[1;33m=\u001b[0m \u001b[1;33m[\u001b[0m\u001b[0mresult\u001b[0m\u001b[1;33m,\u001b[0m \u001b[1;33m]\u001b[0m\u001b[1;33m\u001b[0m\u001b[1;33m\u001b[0m\u001b[0m\n\u001b[1;32m--> 378\u001b[1;33m         \u001b[0mself\u001b[0m\u001b[1;33m.\u001b[0m\u001b[0m__check_integrity\u001b[0m\u001b[1;33m(\u001b[0m\u001b[0mresult\u001b[0m\u001b[1;33m)\u001b[0m\u001b[1;33m\u001b[0m\u001b[1;33m\u001b[0m\u001b[0m\n\u001b[0m\u001b[0;32m    379\u001b[0m         \u001b[1;32mreturn\u001b[0m \u001b[0mself\u001b[0m\u001b[1;33m.\u001b[0m\u001b[0m_capture_operation_results\u001b[0m\u001b[1;33m(\u001b[0m\u001b[0mresult\u001b[0m\u001b[1;33m)\u001b[0m\u001b[1;33m\u001b[0m\u001b[1;33m\u001b[0m\u001b[0m\n",
      "\u001b[1;32mc:\\gabrielfloreadata\\tvb_rest\\tvb-root-fork\\tvb-root\\framework_tvb\\tvb\\core\\adapters\\abcadapter.py\u001b[0m in \u001b[0;36m__check_integrity\u001b[1;34m(self, result)\u001b[0m\n\u001b[0;32m    437\u001b[0m                 \u001b[0mmsg\u001b[0m \u001b[1;33m=\u001b[0m \u001b[1;34m\"Unexpected output DataType %s\"\u001b[0m\u001b[1;33m\u001b[0m\u001b[1;33m\u001b[0m\u001b[0m\n\u001b[1;32m--> 438\u001b[1;33m                 \u001b[1;32mraise\u001b[0m \u001b[0mInvalidParameterException\u001b[0m\u001b[1;33m(\u001b[0m\u001b[0mmsg\u001b[0m \u001b[1;33m%\u001b[0m \u001b[0mtype\u001b[0m\u001b[1;33m(\u001b[0m\u001b[0mresult_entity\u001b[0m\u001b[1;33m)\u001b[0m\u001b[1;33m)\u001b[0m\u001b[1;33m\u001b[0m\u001b[1;33m\u001b[0m\u001b[0m\n\u001b[0m\u001b[0;32m    439\u001b[0m \u001b[1;33m\u001b[0m\u001b[0m\n",
      "\u001b[1;31mInvalidParameterException\u001b[0m: Unexpected output DataType <class 'tvb.core.entities.model.model_datatype.DataType'>",
      "\nDuring handling of the above exception, another exception occurred:\n",
      "\u001b[1;31mOperationException\u001b[0m                        Traceback (most recent call last)",
      "\u001b[1;32m<ipython-input-14-361e771e90ea>\u001b[0m in \u001b[0;36m<module>\u001b[1;34m\u001b[0m\n\u001b[0;32m      2\u001b[0m \u001b[1;33m\u001b[0m\u001b[0m\n\u001b[0;32m      3\u001b[0m \u001b[0mzip_path\u001b[0m \u001b[1;33m=\u001b[0m \u001b[0mos\u001b[0m\u001b[1;33m.\u001b[0m\u001b[0mpath\u001b[0m\u001b[1;33m.\u001b[0m\u001b[0mjoin\u001b[0m\u001b[1;33m(\u001b[0m\u001b[0mos\u001b[0m\u001b[1;33m.\u001b[0m\u001b[0mpath\u001b[0m\u001b[1;33m.\u001b[0m\u001b[0mdirname\u001b[0m\u001b[1;33m(\u001b[0m\u001b[0mtvb_data\u001b[0m\u001b[1;33m.\u001b[0m\u001b[0m__file__\u001b[0m\u001b[1;33m)\u001b[0m\u001b[1;33m,\u001b[0m \u001b[1;34m'connectivity'\u001b[0m\u001b[1;33m,\u001b[0m \u001b[1;34m'connectivity_96.zip'\u001b[0m\u001b[1;33m)\u001b[0m\u001b[1;33m\u001b[0m\u001b[1;33m\u001b[0m\u001b[0m\n\u001b[1;32m----> 4\u001b[1;33m \u001b[0mTestFactory\u001b[0m\u001b[1;33m.\u001b[0m\u001b[0mimport_zip_connectivity\u001b[0m\u001b[1;33m(\u001b[0m\u001b[0mtest_user\u001b[0m\u001b[1;33m,\u001b[0m \u001b[0mtest_project\u001b[0m\u001b[1;33m,\u001b[0m \u001b[0mzip_path\u001b[0m\u001b[1;33m)\u001b[0m\u001b[1;33m\u001b[0m\u001b[1;33m\u001b[0m\u001b[0m\n\u001b[0m\u001b[0;32m      5\u001b[0m \u001b[0moperations\u001b[0m \u001b[1;33m=\u001b[0m \u001b[0moperations_resource\u001b[0m\u001b[1;33m.\u001b[0m\u001b[0mget\u001b[0m\u001b[1;33m(\u001b[0m\u001b[0mtest_project\u001b[0m\u001b[1;33m.\u001b[0m\u001b[0mgid\u001b[0m\u001b[1;33m)\u001b[0m\u001b[1;33m\u001b[0m\u001b[1;33m\u001b[0m\u001b[0m\n\u001b[0;32m      6\u001b[0m \u001b[0mresult\u001b[0m \u001b[1;33m=\u001b[0m \u001b[0mstatus_resource\u001b[0m\u001b[1;33m.\u001b[0m\u001b[0mget\u001b[0m\u001b[1;33m(\u001b[0m\u001b[0moperations\u001b[0m\u001b[1;33m[\u001b[0m\u001b[1;36m0\u001b[0m\u001b[1;33m]\u001b[0m\u001b[1;33m.\u001b[0m\u001b[0mgid\u001b[0m\u001b[1;33m)\u001b[0m\u001b[1;33m\u001b[0m\u001b[1;33m\u001b[0m\u001b[0m\n",
      "\u001b[1;32mc:\\gabrielfloreadata\\tvb_rest\\tvb-root-fork\\tvb-root\\framework_tvb\\tvb\\tests\\framework\\core\\factory.py\u001b[0m in \u001b[0;36mimport_zip_connectivity\u001b[1;34m(user, project, zip_path, subject)\u001b[0m\n\u001b[0;32m    376\u001b[0m \u001b[1;33m\u001b[0m\u001b[0m\n\u001b[0;32m    377\u001b[0m         \u001b[1;31m# Launch Operation\u001b[0m\u001b[1;33m\u001b[0m\u001b[1;33m\u001b[0m\u001b[1;33m\u001b[0m\u001b[0m\n\u001b[1;32m--> 378\u001b[1;33m         \u001b[0mFlowService\u001b[0m\u001b[1;33m(\u001b[0m\u001b[1;33m)\u001b[0m\u001b[1;33m.\u001b[0m\u001b[0mfire_operation\u001b[0m\u001b[1;33m(\u001b[0m\u001b[0mimporter\u001b[0m\u001b[1;33m,\u001b[0m \u001b[0muser\u001b[0m\u001b[1;33m,\u001b[0m \u001b[0mproject\u001b[0m\u001b[1;33m.\u001b[0m\u001b[0mid\u001b[0m\u001b[1;33m,\u001b[0m \u001b[0mview_model\u001b[0m\u001b[1;33m=\u001b[0m\u001b[0mview_model\u001b[0m\u001b[1;33m)\u001b[0m\u001b[1;33m\u001b[0m\u001b[1;33m\u001b[0m\u001b[0m\n\u001b[0m\u001b[0;32m    379\u001b[0m \u001b[1;33m\u001b[0m\u001b[0m\n\u001b[0;32m    380\u001b[0m \u001b[1;33m\u001b[0m\u001b[0m\n",
      "\u001b[1;32mc:\\gabrielfloreadata\\tvb_rest\\tvb-root-fork\\tvb-root\\framework_tvb\\tvb\\core\\services\\flow_service.py\u001b[0m in \u001b[0;36mfire_operation\u001b[1;34m(self, adapter_instance, current_user, project_id, visible, view_model, **data)\u001b[0m\n\u001b[0;32m    183\u001b[0m             self.logger.exception(\"Could not launch operation \" + operation_name +\n\u001b[0;32m    184\u001b[0m                                   \" with the given set of input data, because: \" + excep.message)\n\u001b[1;32m--> 185\u001b[1;33m             \u001b[1;32mraise\u001b[0m \u001b[0mOperationException\u001b[0m\u001b[1;33m(\u001b[0m\u001b[0mexcep\u001b[0m\u001b[1;33m.\u001b[0m\u001b[0mmessage\u001b[0m\u001b[1;33m,\u001b[0m \u001b[0mexcep\u001b[0m\u001b[1;33m)\u001b[0m\u001b[1;33m\u001b[0m\u001b[1;33m\u001b[0m\u001b[0m\n\u001b[0m\u001b[0;32m    186\u001b[0m         \u001b[1;32mexcept\u001b[0m \u001b[0mException\u001b[0m \u001b[1;32mas\u001b[0m \u001b[0mexcep\u001b[0m\u001b[1;33m:\u001b[0m\u001b[1;33m\u001b[0m\u001b[1;33m\u001b[0m\u001b[0m\n\u001b[0;32m    187\u001b[0m             \u001b[0mself\u001b[0m\u001b[1;33m.\u001b[0m\u001b[0mlogger\u001b[0m\u001b[1;33m.\u001b[0m\u001b[0mexception\u001b[0m\u001b[1;33m(\u001b[0m\u001b[1;34m\"Could not launch operation \"\u001b[0m \u001b[1;33m+\u001b[0m \u001b[0moperation_name\u001b[0m \u001b[1;33m+\u001b[0m \u001b[1;34m\" with the given set of input data!\"\u001b[0m\u001b[1;33m)\u001b[0m\u001b[1;33m\u001b[0m\u001b[1;33m\u001b[0m\u001b[0m\n",
      "\u001b[1;31mOperationException\u001b[0m: Unexpected output DataType <class 'tvb.core.entities.model.model_datatype.DataType'>"
     ]
    }
   ],
   "source": [
    "### Get operation status\n",
    "\n",
    "zip_path = os.path.join(os.path.dirname(tvb_data.__file__), 'connectivity', 'connectivity_96.zip')\n",
    "TestFactory.import_zip_connectivity(test_user, test_project, zip_path)\n",
    "operations = operations_resource.get(test_project.gid)\n",
    "result = status_resource.get(operations[0].gid)\n",
    "print(result)\n"
   ]
  },
  {
   "cell_type": "code",
   "execution_count": 15,
   "metadata": {},
   "outputs": [
    {
     "name": "stdout",
     "output_type": "stream",
     "text": [
      "2020-02-28 10:43:42,943 - INFO - tvb.core.services.flow_service - Starting operation ZIPConnectivityImporter\n",
      "2020-02-28 10:43:43,156 - ERROR - tvb.core.services.operation_service - Unexpected output DataType <class 'tvb.core.entities.model.model_datatype.DataType'>\n",
      "Traceback (most recent call last):\n",
      "  File \"c:\\gabrielfloreadata\\tvb_rest\\tvb-root-fork\\tvb-root\\framework_tvb\\tvb\\core\\services\\operation_service.py\", line 321, in initiate_prelaunch\n",
      "    result_msg, nr_datatypes = adapter_instance._prelaunch(operation, unique_id, available_space, view_model)\n",
      "  File \"c:\\gabrielfloreadata\\tvb_rest\\tvb-root-fork\\tvb-root\\framework_tvb\\tvb\\core\\adapters\\abcuploader.py\", line 80, in _prelaunch\n",
      "    return ABCSynchronous._prelaunch(self, operation, uid, available_disk_space, view_model, **kwargs)\n",
      "  File \"c:\\gabrielfloreadata\\tvb_rest\\tvb-root-fork\\tvb-root\\framework_tvb\\tvb\\core\\adapters\\abcadapter.py\", line 89, in new_function\n",
      "    return func(*args, **kw)\n",
      "  File \"c:\\gabrielfloreadata\\tvb_rest\\tvb-root-fork\\tvb-root\\framework_tvb\\tvb\\core\\adapters\\abcadapter.py\", line 378, in _prelaunch\n",
      "    self.__check_integrity(result)\n",
      "  File \"c:\\gabrielfloreadata\\tvb_rest\\tvb-root-fork\\tvb-root\\framework_tvb\\tvb\\core\\adapters\\abcadapter.py\", line 438, in __check_integrity\n",
      "    raise InvalidParameterException(msg % type(result_entity))\n",
      "tvb.core.adapters.exceptions.InvalidParameterException: Unexpected output DataType <class 'tvb.core.entities.model.model_datatype.DataType'>\n",
      "2020-02-28 10:43:43,188 - ERROR - tvb.core.services.flow_service - Could not launch operation ZIPConnectivityImporter with the given set of input data, because: Unexpected output DataType <class 'tvb.core.entities.model.model_datatype.DataType'>\n",
      "Traceback (most recent call last):\n",
      "  File \"c:\\gabrielfloreadata\\tvb_rest\\tvb-root-fork\\tvb-root\\framework_tvb\\tvb\\core\\services\\flow_service.py\", line 178, in fire_operation\n",
      "    model_view=view_model, **data)\n",
      "  File \"c:\\gabrielfloreadata\\tvb_rest\\tvb-root-fork\\tvb-root\\framework_tvb\\tvb\\core\\services\\operation_service.py\", line 126, in initiate_operation\n",
      "    return self.initiate_prelaunch(operations[0], adapter_instance, **kwargs)\n",
      "  File \"c:\\gabrielfloreadata\\tvb_rest\\tvb-root-fork\\tvb-root\\framework_tvb\\tvb\\core\\services\\operation_service.py\", line 342, in initiate_prelaunch\n",
      "    self._handle_exception(excep, temp_files, excep.message, operation)\n",
      "  File \"c:\\gabrielfloreadata\\tvb_rest\\tvb-root-fork\\tvb-root\\framework_tvb\\tvb\\core\\services\\operation_service.py\", line 395, in _handle_exception\n",
      "    sys.exc_info()[2])  # when rethrowing in python this is required to preserve the stack trace\n",
      "  File \"c:\\gabrielfloreadata\\tvb_rest\\tvb-root-fork\\tvb-root\\framework_tvb\\tvb\\core\\services\\operation_service.py\", line 321, in initiate_prelaunch\n",
      "    result_msg, nr_datatypes = adapter_instance._prelaunch(operation, unique_id, available_space, view_model)\n",
      "  File \"c:\\gabrielfloreadata\\tvb_rest\\tvb-root-fork\\tvb-root\\framework_tvb\\tvb\\core\\adapters\\abcuploader.py\", line 80, in _prelaunch\n",
      "    return ABCSynchronous._prelaunch(self, operation, uid, available_disk_space, view_model, **kwargs)\n",
      "  File \"c:\\gabrielfloreadata\\tvb_rest\\tvb-root-fork\\tvb-root\\framework_tvb\\tvb\\core\\adapters\\abcadapter.py\", line 89, in new_function\n",
      "    return func(*args, **kw)\n",
      "  File \"c:\\gabrielfloreadata\\tvb_rest\\tvb-root-fork\\tvb-root\\framework_tvb\\tvb\\core\\adapters\\abcadapter.py\", line 378, in _prelaunch\n",
      "    self.__check_integrity(result)\n",
      "  File \"c:\\gabrielfloreadata\\tvb_rest\\tvb-root-fork\\tvb-root\\framework_tvb\\tvb\\core\\adapters\\abcadapter.py\", line 438, in __check_integrity\n",
      "    raise InvalidParameterException(msg % type(result_entity))\n",
      "tvb.core.adapters.exceptions.InvalidParameterException: Unexpected output DataType <class 'tvb.core.entities.model.model_datatype.DataType'>\n"
     ]
    },
    {
     "ename": "OperationException",
     "evalue": "Unexpected output DataType <class 'tvb.core.entities.model.model_datatype.DataType'>",
     "output_type": "error",
     "traceback": [
      "\u001b[1;31m---------------------------------------------------------------------------\u001b[0m",
      "\u001b[1;31mInvalidParameterException\u001b[0m                 Traceback (most recent call last)",
      "\u001b[1;32mc:\\gabrielfloreadata\\tvb_rest\\tvb-root-fork\\tvb-root\\framework_tvb\\tvb\\core\\services\\flow_service.py\u001b[0m in \u001b[0;36mfire_operation\u001b[1;34m(self, adapter_instance, current_user, project_id, visible, view_model, **data)\u001b[0m\n\u001b[0;32m    177\u001b[0m             result = OperationService().initiate_operation(current_user, project, adapter_instance, visible,\n\u001b[1;32m--> 178\u001b[1;33m                                                            model_view=view_model, **data)\n\u001b[0m\u001b[0;32m    179\u001b[0m             \u001b[0mself\u001b[0m\u001b[1;33m.\u001b[0m\u001b[0mlogger\u001b[0m\u001b[1;33m.\u001b[0m\u001b[0minfo\u001b[0m\u001b[1;33m(\u001b[0m\u001b[1;34m\"Finished operation launch:\"\u001b[0m \u001b[1;33m+\u001b[0m \u001b[0moperation_name\u001b[0m\u001b[1;33m)\u001b[0m\u001b[1;33m\u001b[0m\u001b[1;33m\u001b[0m\u001b[0m\n",
      "\u001b[1;32mc:\\gabrielfloreadata\\tvb_rest\\tvb-root-fork\\tvb-root\\framework_tvb\\tvb\\core\\services\\operation_service.py\u001b[0m in \u001b[0;36minitiate_operation\u001b[1;34m(self, current_user, project, adapter_instance, visible, model_view, **kwargs)\u001b[0m\n\u001b[0;32m    125\u001b[0m                 \u001b[1;32mraise\u001b[0m \u001b[0mLaunchException\u001b[0m\u001b[1;33m(\u001b[0m\u001b[1;34m\"Invalid empty Operation!!!\"\u001b[0m\u001b[1;33m)\u001b[0m\u001b[1;33m\u001b[0m\u001b[1;33m\u001b[0m\u001b[0m\n\u001b[1;32m--> 126\u001b[1;33m             \u001b[1;32mreturn\u001b[0m \u001b[0mself\u001b[0m\u001b[1;33m.\u001b[0m\u001b[0minitiate_prelaunch\u001b[0m\u001b[1;33m(\u001b[0m\u001b[0moperations\u001b[0m\u001b[1;33m[\u001b[0m\u001b[1;36m0\u001b[0m\u001b[1;33m]\u001b[0m\u001b[1;33m,\u001b[0m \u001b[0madapter_instance\u001b[0m\u001b[1;33m,\u001b[0m \u001b[1;33m**\u001b[0m\u001b[0mkwargs\u001b[0m\u001b[1;33m)\u001b[0m\u001b[1;33m\u001b[0m\u001b[1;33m\u001b[0m\u001b[0m\n\u001b[0m\u001b[0;32m    127\u001b[0m         \u001b[1;32melse\u001b[0m\u001b[1;33m:\u001b[0m\u001b[1;33m\u001b[0m\u001b[1;33m\u001b[0m\u001b[0m\n",
      "\u001b[1;32mc:\\gabrielfloreadata\\tvb_rest\\tvb-root-fork\\tvb-root\\framework_tvb\\tvb\\core\\services\\operation_service.py\u001b[0m in \u001b[0;36minitiate_prelaunch\u001b[1;34m(self, operation, adapter_instance, **kwargs)\u001b[0m\n\u001b[0;32m    341\u001b[0m         \u001b[1;32mexcept\u001b[0m \u001b[0mTVBException\u001b[0m \u001b[1;32mas\u001b[0m \u001b[0mexcep\u001b[0m\u001b[1;33m:\u001b[0m\u001b[1;33m\u001b[0m\u001b[1;33m\u001b[0m\u001b[0m\n\u001b[1;32m--> 342\u001b[1;33m             \u001b[0mself\u001b[0m\u001b[1;33m.\u001b[0m\u001b[0m_handle_exception\u001b[0m\u001b[1;33m(\u001b[0m\u001b[0mexcep\u001b[0m\u001b[1;33m,\u001b[0m \u001b[0mtemp_files\u001b[0m\u001b[1;33m,\u001b[0m \u001b[0mexcep\u001b[0m\u001b[1;33m.\u001b[0m\u001b[0mmessage\u001b[0m\u001b[1;33m,\u001b[0m \u001b[0moperation\u001b[0m\u001b[1;33m)\u001b[0m\u001b[1;33m\u001b[0m\u001b[1;33m\u001b[0m\u001b[0m\n\u001b[0m\u001b[0;32m    343\u001b[0m         \u001b[1;32mexcept\u001b[0m \u001b[0mMemoryError\u001b[0m\u001b[1;33m:\u001b[0m\u001b[1;33m\u001b[0m\u001b[1;33m\u001b[0m\u001b[0m\n",
      "\u001b[1;32mc:\\gabrielfloreadata\\tvb_rest\\tvb-root-fork\\tvb-root\\framework_tvb\\tvb\\core\\services\\operation_service.py\u001b[0m in \u001b[0;36m_handle_exception\u001b[1;34m(self, exception, temp_files, message, operation)\u001b[0m\n\u001b[0;32m    394\u001b[0m         raise exception.with_traceback(\n\u001b[1;32m--> 395\u001b[1;33m             sys.exc_info()[2])  # when rethrowing in python this is required to preserve the stack trace\n\u001b[0m\u001b[0;32m    396\u001b[0m \u001b[1;33m\u001b[0m\u001b[0m\n",
      "\u001b[1;32mc:\\gabrielfloreadata\\tvb_rest\\tvb-root-fork\\tvb-root\\framework_tvb\\tvb\\core\\services\\operation_service.py\u001b[0m in \u001b[0;36minitiate_prelaunch\u001b[1;34m(self, operation, adapter_instance, **kwargs)\u001b[0m\n\u001b[0;32m    320\u001b[0m             \u001b[0mview_model\u001b[0m \u001b[1;33m=\u001b[0m \u001b[0mself\u001b[0m\u001b[1;33m.\u001b[0m\u001b[0mload_view_model\u001b[0m\u001b[1;33m(\u001b[0m\u001b[0madapter_instance\u001b[0m\u001b[1;33m,\u001b[0m \u001b[0moperation\u001b[0m\u001b[1;33m)\u001b[0m\u001b[1;33m\u001b[0m\u001b[1;33m\u001b[0m\u001b[0m\n\u001b[1;32m--> 321\u001b[1;33m             \u001b[0mresult_msg\u001b[0m\u001b[1;33m,\u001b[0m \u001b[0mnr_datatypes\u001b[0m \u001b[1;33m=\u001b[0m \u001b[0madapter_instance\u001b[0m\u001b[1;33m.\u001b[0m\u001b[0m_prelaunch\u001b[0m\u001b[1;33m(\u001b[0m\u001b[0moperation\u001b[0m\u001b[1;33m,\u001b[0m \u001b[0munique_id\u001b[0m\u001b[1;33m,\u001b[0m \u001b[0mavailable_space\u001b[0m\u001b[1;33m,\u001b[0m \u001b[0mview_model\u001b[0m\u001b[1;33m)\u001b[0m\u001b[1;33m\u001b[0m\u001b[1;33m\u001b[0m\u001b[0m\n\u001b[0m\u001b[0;32m    322\u001b[0m             \u001b[0moperation\u001b[0m \u001b[1;33m=\u001b[0m \u001b[0mdao\u001b[0m\u001b[1;33m.\u001b[0m\u001b[0mget_operation_by_id\u001b[0m\u001b[1;33m(\u001b[0m\u001b[0moperation\u001b[0m\u001b[1;33m.\u001b[0m\u001b[0mid\u001b[0m\u001b[1;33m)\u001b[0m\u001b[1;33m\u001b[0m\u001b[1;33m\u001b[0m\u001b[0m\n",
      "\u001b[1;32mc:\\gabrielfloreadata\\tvb_rest\\tvb-root-fork\\tvb-root\\framework_tvb\\tvb\\core\\adapters\\abcuploader.py\u001b[0m in \u001b[0;36m_prelaunch\u001b[1;34m(self, operation, uid, available_disk_space, view_model, **kwargs)\u001b[0m\n\u001b[0;32m     79\u001b[0m \u001b[1;33m\u001b[0m\u001b[0m\n\u001b[1;32m---> 80\u001b[1;33m         \u001b[1;32mreturn\u001b[0m \u001b[0mABCSynchronous\u001b[0m\u001b[1;33m.\u001b[0m\u001b[0m_prelaunch\u001b[0m\u001b[1;33m(\u001b[0m\u001b[0mself\u001b[0m\u001b[1;33m,\u001b[0m \u001b[0moperation\u001b[0m\u001b[1;33m,\u001b[0m \u001b[0muid\u001b[0m\u001b[1;33m,\u001b[0m \u001b[0mavailable_disk_space\u001b[0m\u001b[1;33m,\u001b[0m \u001b[0mview_model\u001b[0m\u001b[1;33m,\u001b[0m \u001b[1;33m**\u001b[0m\u001b[0mkwargs\u001b[0m\u001b[1;33m)\u001b[0m\u001b[1;33m\u001b[0m\u001b[1;33m\u001b[0m\u001b[0m\n\u001b[0m\u001b[0;32m     81\u001b[0m \u001b[1;33m\u001b[0m\u001b[0m\n",
      "\u001b[1;32mc:\\gabrielfloreadata\\tvb_rest\\tvb-root-fork\\tvb-root\\framework_tvb\\tvb\\core\\adapters\\abcadapter.py\u001b[0m in \u001b[0;36mnew_function\u001b[1;34m(*args, **kw)\u001b[0m\n\u001b[0;32m     88\u001b[0m             \u001b[1;32mtry\u001b[0m\u001b[1;33m:\u001b[0m\u001b[1;33m\u001b[0m\u001b[1;33m\u001b[0m\u001b[0m\n\u001b[1;32m---> 89\u001b[1;33m                 \u001b[1;32mreturn\u001b[0m \u001b[0mfunc\u001b[0m\u001b[1;33m(\u001b[0m\u001b[1;33m*\u001b[0m\u001b[0margs\u001b[0m\u001b[1;33m,\u001b[0m \u001b[1;33m**\u001b[0m\u001b[0mkw\u001b[0m\u001b[1;33m)\u001b[0m\u001b[1;33m\u001b[0m\u001b[1;33m\u001b[0m\u001b[0m\n\u001b[0m\u001b[0;32m     90\u001b[0m             \u001b[1;32mexcept\u001b[0m \u001b[0mFloatingPointError\u001b[0m\u001b[1;33m:\u001b[0m\u001b[1;33m\u001b[0m\u001b[1;33m\u001b[0m\u001b[0m\n",
      "\u001b[1;32mc:\\gabrielfloreadata\\tvb_rest\\tvb-root-fork\\tvb-root\\framework_tvb\\tvb\\core\\adapters\\abcadapter.py\u001b[0m in \u001b[0;36m_prelaunch\u001b[1;34m(self, operation, uid, available_disk_space, view_model, **kwargs)\u001b[0m\n\u001b[0;32m    377\u001b[0m             \u001b[0mresult\u001b[0m \u001b[1;33m=\u001b[0m \u001b[1;33m[\u001b[0m\u001b[0mresult\u001b[0m\u001b[1;33m,\u001b[0m \u001b[1;33m]\u001b[0m\u001b[1;33m\u001b[0m\u001b[1;33m\u001b[0m\u001b[0m\n\u001b[1;32m--> 378\u001b[1;33m         \u001b[0mself\u001b[0m\u001b[1;33m.\u001b[0m\u001b[0m__check_integrity\u001b[0m\u001b[1;33m(\u001b[0m\u001b[0mresult\u001b[0m\u001b[1;33m)\u001b[0m\u001b[1;33m\u001b[0m\u001b[1;33m\u001b[0m\u001b[0m\n\u001b[0m\u001b[0;32m    379\u001b[0m         \u001b[1;32mreturn\u001b[0m \u001b[0mself\u001b[0m\u001b[1;33m.\u001b[0m\u001b[0m_capture_operation_results\u001b[0m\u001b[1;33m(\u001b[0m\u001b[0mresult\u001b[0m\u001b[1;33m)\u001b[0m\u001b[1;33m\u001b[0m\u001b[1;33m\u001b[0m\u001b[0m\n",
      "\u001b[1;32mc:\\gabrielfloreadata\\tvb_rest\\tvb-root-fork\\tvb-root\\framework_tvb\\tvb\\core\\adapters\\abcadapter.py\u001b[0m in \u001b[0;36m__check_integrity\u001b[1;34m(self, result)\u001b[0m\n\u001b[0;32m    437\u001b[0m                 \u001b[0mmsg\u001b[0m \u001b[1;33m=\u001b[0m \u001b[1;34m\"Unexpected output DataType %s\"\u001b[0m\u001b[1;33m\u001b[0m\u001b[1;33m\u001b[0m\u001b[0m\n\u001b[1;32m--> 438\u001b[1;33m                 \u001b[1;32mraise\u001b[0m \u001b[0mInvalidParameterException\u001b[0m\u001b[1;33m(\u001b[0m\u001b[0mmsg\u001b[0m \u001b[1;33m%\u001b[0m \u001b[0mtype\u001b[0m\u001b[1;33m(\u001b[0m\u001b[0mresult_entity\u001b[0m\u001b[1;33m)\u001b[0m\u001b[1;33m)\u001b[0m\u001b[1;33m\u001b[0m\u001b[1;33m\u001b[0m\u001b[0m\n\u001b[0m\u001b[0;32m    439\u001b[0m \u001b[1;33m\u001b[0m\u001b[0m\n",
      "\u001b[1;31mInvalidParameterException\u001b[0m: Unexpected output DataType <class 'tvb.core.entities.model.model_datatype.DataType'>",
      "\nDuring handling of the above exception, another exception occurred:\n",
      "\u001b[1;31mOperationException\u001b[0m                        Traceback (most recent call last)",
      "\u001b[1;32m<ipython-input-15-c8263acb6502>\u001b[0m in \u001b[0;36m<module>\u001b[1;34m\u001b[0m\n\u001b[0;32m      2\u001b[0m \u001b[1;33m\u001b[0m\u001b[0m\n\u001b[0;32m      3\u001b[0m \u001b[0mzip_path\u001b[0m \u001b[1;33m=\u001b[0m \u001b[0mos\u001b[0m\u001b[1;33m.\u001b[0m\u001b[0mpath\u001b[0m\u001b[1;33m.\u001b[0m\u001b[0mjoin\u001b[0m\u001b[1;33m(\u001b[0m\u001b[0mos\u001b[0m\u001b[1;33m.\u001b[0m\u001b[0mpath\u001b[0m\u001b[1;33m.\u001b[0m\u001b[0mdirname\u001b[0m\u001b[1;33m(\u001b[0m\u001b[0mtvb_data\u001b[0m\u001b[1;33m.\u001b[0m\u001b[0m__file__\u001b[0m\u001b[1;33m)\u001b[0m\u001b[1;33m,\u001b[0m \u001b[1;34m'connectivity'\u001b[0m\u001b[1;33m,\u001b[0m \u001b[1;34m'connectivity_96.zip'\u001b[0m\u001b[1;33m)\u001b[0m\u001b[1;33m\u001b[0m\u001b[1;33m\u001b[0m\u001b[0m\n\u001b[1;32m----> 4\u001b[1;33m \u001b[0mTestFactory\u001b[0m\u001b[1;33m.\u001b[0m\u001b[0mimport_zip_connectivity\u001b[0m\u001b[1;33m(\u001b[0m\u001b[0mtest_user\u001b[0m\u001b[1;33m,\u001b[0m \u001b[0mtest_project\u001b[0m\u001b[1;33m,\u001b[0m \u001b[0mzip_path\u001b[0m\u001b[1;33m)\u001b[0m\u001b[1;33m\u001b[0m\u001b[1;33m\u001b[0m\u001b[0m\n\u001b[0m\u001b[0;32m      5\u001b[0m \u001b[0moperations\u001b[0m \u001b[1;33m=\u001b[0m \u001b[0moperations_resource\u001b[0m\u001b[1;33m.\u001b[0m\u001b[0mget\u001b[0m\u001b[1;33m(\u001b[0m\u001b[0mtest_project\u001b[0m\u001b[1;33m.\u001b[0m\u001b[0mgid\u001b[0m\u001b[1;33m)\u001b[0m\u001b[1;33m\u001b[0m\u001b[1;33m\u001b[0m\u001b[0m\n\u001b[0;32m      6\u001b[0m \u001b[0mresult\u001b[0m \u001b[1;33m=\u001b[0m \u001b[0mresults_resource\u001b[0m\u001b[1;33m.\u001b[0m\u001b[0mget\u001b[0m\u001b[1;33m(\u001b[0m\u001b[0moperations\u001b[0m\u001b[1;33m[\u001b[0m\u001b[1;36m0\u001b[0m\u001b[1;33m]\u001b[0m\u001b[1;33m.\u001b[0m\u001b[0mgid\u001b[0m\u001b[1;33m)\u001b[0m\u001b[1;33m\u001b[0m\u001b[1;33m\u001b[0m\u001b[0m\n",
      "\u001b[1;32mc:\\gabrielfloreadata\\tvb_rest\\tvb-root-fork\\tvb-root\\framework_tvb\\tvb\\tests\\framework\\core\\factory.py\u001b[0m in \u001b[0;36mimport_zip_connectivity\u001b[1;34m(user, project, zip_path, subject)\u001b[0m\n\u001b[0;32m    376\u001b[0m \u001b[1;33m\u001b[0m\u001b[0m\n\u001b[0;32m    377\u001b[0m         \u001b[1;31m# Launch Operation\u001b[0m\u001b[1;33m\u001b[0m\u001b[1;33m\u001b[0m\u001b[1;33m\u001b[0m\u001b[0m\n\u001b[1;32m--> 378\u001b[1;33m         \u001b[0mFlowService\u001b[0m\u001b[1;33m(\u001b[0m\u001b[1;33m)\u001b[0m\u001b[1;33m.\u001b[0m\u001b[0mfire_operation\u001b[0m\u001b[1;33m(\u001b[0m\u001b[0mimporter\u001b[0m\u001b[1;33m,\u001b[0m \u001b[0muser\u001b[0m\u001b[1;33m,\u001b[0m \u001b[0mproject\u001b[0m\u001b[1;33m.\u001b[0m\u001b[0mid\u001b[0m\u001b[1;33m,\u001b[0m \u001b[0mview_model\u001b[0m\u001b[1;33m=\u001b[0m\u001b[0mview_model\u001b[0m\u001b[1;33m)\u001b[0m\u001b[1;33m\u001b[0m\u001b[1;33m\u001b[0m\u001b[0m\n\u001b[0m\u001b[0;32m    379\u001b[0m \u001b[1;33m\u001b[0m\u001b[0m\n\u001b[0;32m    380\u001b[0m \u001b[1;33m\u001b[0m\u001b[0m\n",
      "\u001b[1;32mc:\\gabrielfloreadata\\tvb_rest\\tvb-root-fork\\tvb-root\\framework_tvb\\tvb\\core\\services\\flow_service.py\u001b[0m in \u001b[0;36mfire_operation\u001b[1;34m(self, adapter_instance, current_user, project_id, visible, view_model, **data)\u001b[0m\n\u001b[0;32m    183\u001b[0m             self.logger.exception(\"Could not launch operation \" + operation_name +\n\u001b[0;32m    184\u001b[0m                                   \" with the given set of input data, because: \" + excep.message)\n\u001b[1;32m--> 185\u001b[1;33m             \u001b[1;32mraise\u001b[0m \u001b[0mOperationException\u001b[0m\u001b[1;33m(\u001b[0m\u001b[0mexcep\u001b[0m\u001b[1;33m.\u001b[0m\u001b[0mmessage\u001b[0m\u001b[1;33m,\u001b[0m \u001b[0mexcep\u001b[0m\u001b[1;33m)\u001b[0m\u001b[1;33m\u001b[0m\u001b[1;33m\u001b[0m\u001b[0m\n\u001b[0m\u001b[0;32m    186\u001b[0m         \u001b[1;32mexcept\u001b[0m \u001b[0mException\u001b[0m \u001b[1;32mas\u001b[0m \u001b[0mexcep\u001b[0m\u001b[1;33m:\u001b[0m\u001b[1;33m\u001b[0m\u001b[1;33m\u001b[0m\u001b[0m\n\u001b[0;32m    187\u001b[0m             \u001b[0mself\u001b[0m\u001b[1;33m.\u001b[0m\u001b[0mlogger\u001b[0m\u001b[1;33m.\u001b[0m\u001b[0mexception\u001b[0m\u001b[1;33m(\u001b[0m\u001b[1;34m\"Could not launch operation \"\u001b[0m \u001b[1;33m+\u001b[0m \u001b[0moperation_name\u001b[0m \u001b[1;33m+\u001b[0m \u001b[1;34m\" with the given set of input data!\"\u001b[0m\u001b[1;33m)\u001b[0m\u001b[1;33m\u001b[0m\u001b[1;33m\u001b[0m\u001b[0m\n",
      "\u001b[1;31mOperationException\u001b[0m: Unexpected output DataType <class 'tvb.core.entities.model.model_datatype.DataType'>"
     ]
    }
   ],
   "source": [
    "### Get operation results\n",
    "\n",
    "zip_path = os.path.join(os.path.dirname(tvb_data.__file__), 'connectivity', 'connectivity_96.zip')\n",
    "TestFactory.import_zip_connectivity(test_user, test_project, zip_path)\n",
    "operations = operations_resource.get(test_project.gid)\n",
    "result = results_resource.get(operations[0].gid)\n",
    "print(result)\n"
   ]
  },
  {
   "cell_type": "code",
   "execution_count": 16,
   "metadata": {},
   "outputs": [
    {
     "ename": "NameError",
     "evalue": "name 'time_series_index_factory' is not defined",
     "output_type": "error",
     "traceback": [
      "\u001b[1;31m---------------------------------------------------------------------------\u001b[0m",
      "\u001b[1;31mNameError\u001b[0m                                 Traceback (most recent call last)",
      "\u001b[1;32m<ipython-input-16-505e671e2783>\u001b[0m in \u001b[0;36m<module>\u001b[1;34m\u001b[0m\n\u001b[0;32m      4\u001b[0m \u001b[0malgorithm_class\u001b[0m \u001b[1;33m=\u001b[0m \u001b[1;34m\"FourierAdapter\"\u001b[0m\u001b[1;33m\u001b[0m\u001b[1;33m\u001b[0m\u001b[0m\n\u001b[0;32m      5\u001b[0m \u001b[1;33m\u001b[0m\u001b[0m\n\u001b[1;32m----> 6\u001b[1;33m \u001b[0minput_ts_index\u001b[0m \u001b[1;33m=\u001b[0m \u001b[0mtime_series_index_factory\u001b[0m\u001b[1;33m(\u001b[0m\u001b[1;33m)\u001b[0m\u001b[1;33m\u001b[0m\u001b[1;33m\u001b[0m\u001b[0m\n\u001b[0m\u001b[0;32m      7\u001b[0m \u001b[1;33m\u001b[0m\u001b[0m\n\u001b[0;32m      8\u001b[0m \u001b[0mfft_model\u001b[0m \u001b[1;33m=\u001b[0m \u001b[0mFFTAdapterModel\u001b[0m\u001b[1;33m(\u001b[0m\u001b[1;33m)\u001b[0m\u001b[1;33m\u001b[0m\u001b[1;33m\u001b[0m\u001b[0m\n",
      "\u001b[1;31mNameError\u001b[0m: name 'time_series_index_factory' is not defined"
     ]
    }
   ],
   "source": [
    "### Launch operation\n",
    "\n",
    "algorithm_module = \"tvb.adapters.analyzers.fourier_adapter\"\n",
    "algorithm_class = \"FourierAdapter\"\n",
    "\n",
    "input_ts_index = time_series_index_factory()\n",
    "\n",
    "fft_model = FFTAdapterModel()\n",
    "fft_model.time_series = UUID(input_ts_index.gid)\n",
    "fft_model.window_function = list(SUPPORTED_WINDOWING_FUNCTIONS)[0]\n",
    "\n",
    "input_folder = files_helper.get_project_folder(test_project)\n",
    "view_model_h5_path = h5.path_for(input_folder, ViewModelH5, fft_model.gid)\n",
    "\n",
    "view_model_h5 = ViewModelH5(view_model_h5_path, fft_model)\n",
    "view_model_h5.store(fft_model)\n",
    "view_model_h5.close()\n",
    "\n",
    "# Mock flask.request.files to return a dictionary\n",
    "request_mock = mocker.patch.object(flask, 'request')\n",
    "fp = open(view_model_h5_path, 'rb')\n",
    "request_mock.files = {'file': FileStorage(fp, os.path.basename(view_model_h5_path))}\n",
    "\n",
    "# Mock launch_operation() call\n",
    "mocker.patch.object(OperationService, 'launch_operation')\n",
    "\n",
    "operation_gid, status = launch_resource.post(test_project.gid, algorithm_module, algorithm_class)\n",
    "fp.close()\n"
   ]
  },
  {
   "cell_type": "code",
   "execution_count": 18,
   "metadata": {},
   "outputs": [],
   "source": [
    "### Clean\n",
    "\n",
    "files_helper.remove_project_structure(test_project.name)\n"
   ]
  },
  {
   "cell_type": "markdown",
   "metadata": {},
   "source": [
    "## Simulation resources"
   ]
  },
  {
   "cell_type": "code",
   "execution_count": 21,
   "metadata": {},
   "outputs": [],
   "source": [
    "### Initialization of used data\n",
    "\n",
    "test_user = TestFactory.create_user('Rest_User11')\n",
    "test_project = TestFactory.create_project(test_user, 'Rest_Project11')\n",
    "simulation_resource = FireSimulationResource()\n",
    "files_helper = FilesHelper()\n",
    "        "
   ]
  },
  {
   "cell_type": "code",
   "execution_count": 23,
   "metadata": {},
   "outputs": [
    {
     "ename": "NameError",
     "evalue": "name 'connectivity_factory' is not defined",
     "output_type": "error",
     "traceback": [
      "\u001b[1;31m---------------------------------------------------------------------------\u001b[0m",
      "\u001b[1;31mNameError\u001b[0m                                 Traceback (most recent call last)",
      "\u001b[1;32m<ipython-input-23-b16c113390f9>\u001b[0m in \u001b[0;36m<module>\u001b[1;34m\u001b[0m\n\u001b[0;32m      7\u001b[0m \u001b[1;33m\u001b[0m\u001b[0m\n\u001b[0;32m      8\u001b[0m \u001b[0msimulator\u001b[0m \u001b[1;33m=\u001b[0m \u001b[0mSimulator\u001b[0m\u001b[1;33m(\u001b[0m\u001b[1;33m)\u001b[0m\u001b[1;33m\u001b[0m\u001b[1;33m\u001b[0m\u001b[0m\n\u001b[1;32m----> 9\u001b[1;33m \u001b[0msimulator\u001b[0m\u001b[1;33m.\u001b[0m\u001b[0mconnectivity\u001b[0m \u001b[1;33m=\u001b[0m \u001b[0mconnectivity_factory\u001b[0m\u001b[1;33m(\u001b[0m\u001b[1;33m)\u001b[0m\u001b[1;33m\u001b[0m\u001b[1;33m\u001b[0m\u001b[0m\n\u001b[0m\u001b[0;32m     10\u001b[0m \u001b[0msim_serializer\u001b[0m \u001b[1;33m=\u001b[0m \u001b[0mSimulatorSerializer\u001b[0m\u001b[1;33m(\u001b[0m\u001b[1;33m)\u001b[0m\u001b[1;33m\u001b[0m\u001b[1;33m\u001b[0m\u001b[0m\n\u001b[0;32m     11\u001b[0m \u001b[0msim_serializer\u001b[0m\u001b[1;33m.\u001b[0m\u001b[0mserialize_simulator\u001b[0m\u001b[1;33m(\u001b[0m\u001b[0msimulator\u001b[0m\u001b[1;33m,\u001b[0m \u001b[0msimulator\u001b[0m\u001b[1;33m.\u001b[0m\u001b[0mgid\u001b[0m\u001b[1;33m.\u001b[0m\u001b[0mhex\u001b[0m\u001b[1;33m,\u001b[0m \u001b[1;32mNone\u001b[0m\u001b[1;33m,\u001b[0m \u001b[0msim_dir\u001b[0m\u001b[1;33m)\u001b[0m\u001b[1;33m\u001b[0m\u001b[1;33m\u001b[0m\u001b[0m\n",
      "\u001b[1;31mNameError\u001b[0m: name 'connectivity_factory' is not defined"
     ]
    }
   ],
   "source": [
    "### Fire simulation\n",
    "\n",
    "input_folder = files_helper.get_project_folder(test_project)\n",
    "sim_dir = os.path.join(input_folder, 'test_sim')\n",
    "if not os.path.isdir(sim_dir):\n",
    "    os.makedirs(sim_dir)\n",
    "\n",
    "simulator = Simulator()\n",
    "simulator.connectivity = connectivity_factory()\n",
    "sim_serializer = SimulatorSerializer()\n",
    "sim_serializer.serialize_simulator(simulator, simulator.gid.hex, None, sim_dir)\n",
    "\n",
    "zip_filename = shutil.make_archive(sim_dir, 'zip', input_folder)\n",
    "\n",
    "# Mock flask.request.files to return a dictionary\n",
    "request_mock = mocker.patch.object(flask, 'request')\n",
    "fp = open(zip_filename, 'rb')\n",
    "request_mock.files = {'file': FileStorage(fp, os.path.basename(zip_filename))}\n",
    "\n",
    "def launch_sim(user_id, project, algorithm, zip_folder_path, simulator_file):\n",
    "    return Operation('', '', '', {})\n",
    "\n",
    "# Mock simulation launch\n",
    "mocker.patch.object(SimulatorService, 'prepare_simulation_on_server', launch_sim)\n",
    "\n",
    "operation_gid, status = simulation_resource.post(test_project.gid)\n",
    "fp.close()\n"
   ]
  },
  {
   "cell_type": "code",
   "execution_count": 24,
   "metadata": {},
   "outputs": [],
   "source": [
    "### Clean\n",
    "\n",
    "files_helper.remove_project_structure(test_project.name)\n"
   ]
  },
  {
   "cell_type": "code",
   "execution_count": null,
   "metadata": {},
   "outputs": [],
   "source": []
  }
 ],
 "metadata": {
  "kernelspec": {
   "display_name": "Python 3",
   "language": "python",
   "name": "python3"
  },
  "language_info": {
   "codemirror_mode": {
    "name": "ipython",
    "version": 3
   },
   "file_extension": ".py",
   "mimetype": "text/x-python",
   "name": "python",
   "nbconvert_exporter": "python",
   "pygments_lexer": "ipython3",
   "version": "3.7.6"
  }
 },
 "nbformat": 4,
 "nbformat_minor": 1
}
