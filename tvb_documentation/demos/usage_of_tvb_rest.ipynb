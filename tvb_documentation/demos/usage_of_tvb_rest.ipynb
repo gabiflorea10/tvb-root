{
 "cells": [
  {
   "cell_type": "code",
   "execution_count": 18,
   "metadata": {
    "pycharm": {
     "is_executing": false
    }
   },
   "outputs": [],
   "source": [
    "import os\n",
    "import tvb_data\n",
    "from tvb.core.entities.file.files_helper import FilesHelper\n",
    "from tvb.interfaces.rest.commons.exceptions import InvalidIdentifierException\n",
    "from tvb.interfaces.rest.server.resources.user.user_resource import GetUsersResource, GetProjectsListResource\n",
    "from tvb.tests.framework.core.factory import TestFactory\n",
    "from tvb.interfaces.rest.server.resources.project.project_resource import GetDataInProjectResource, \\\n",
    "    GetOperationsInProjectResource\n",
    "from tvb.interfaces.rest.server.resources.datatype.datatype_resource import RetrieveDatatypeResource, \\\n",
    "    GetOperationsForDatatypeResource"
   ]
  },
  {
   "cell_type": "markdown",
   "metadata": {},
   "source": [
    "## User resources"
   ]
  },
  {
   "cell_type": "code",
   "execution_count": 3,
   "metadata": {},
   "outputs": [],
   "source": [
    "### Initialization of used data\n",
    "\n",
    "username = 'Rest_User'\n",
    "test_user = TestFactory.create_user(username)\n",
    "test_project = TestFactory.create_project(test_user, 'Rest_Project')\n",
    "users_resource = GetUsersResource()\n",
    "projects_list_resource = GetProjectsListResource()\n"
   ]
  },
  {
   "cell_type": "code",
   "execution_count": 4,
   "metadata": {},
   "outputs": [
    {
     "name": "stdout",
     "output_type": "stream",
     "text": [
      "Rest_User\n",
      "admin\n"
     ]
    }
   ],
   "source": [
    "### Get users\n",
    "\n",
    "result = users_resource.get()\n",
    "for userDTO in result:\n",
    "    print(userDTO.username)\n",
    "    "
   ]
  },
  {
   "cell_type": "code",
   "execution_count": 5,
   "metadata": {},
   "outputs": [
    {
     "name": "stdout",
     "output_type": "stream",
     "text": [
      "Rest_Project\n"
     ]
    }
   ],
   "source": [
    "### Get projects\n",
    "\n",
    "result = projects_list_resource.get(username)\n",
    "for projectDTO in result:\n",
    "    print(projectDTO.name)\n",
    "    "
   ]
  },
  {
   "cell_type": "code",
   "execution_count": 6,
   "metadata": {},
   "outputs": [],
   "source": [
    "### Clean\n",
    "\n",
    "FilesHelper().remove_project_structure(test_project.name)\n"
   ]
  },
  {
   "cell_type": "markdown",
   "metadata": {},
   "source": [
    "## Project resources"
   ]
  },
  {
   "cell_type": "code",
   "execution_count": 7,
   "metadata": {},
   "outputs": [
    {
     "name": "stdout",
     "output_type": "stream",
     "text": [
      "2020-02-28 09:58:49,978 - INFO - tvb.core.services.flow_service - Starting operation ZIPConnectivityImporter\n",
      "2020-02-28 09:58:50,200 - ERROR - tvb.core.services.operation_service - Unexpected output DataType <class 'tvb.core.entities.model.model_datatype.DataType'>\n",
      "Traceback (most recent call last):\n",
      "  File \"c:\\gabrielfloreadata\\tvb_rest\\tvb-root-fork\\tvb-root\\framework_tvb\\tvb\\core\\services\\operation_service.py\", line 321, in initiate_prelaunch\n",
      "    result_msg, nr_datatypes = adapter_instance._prelaunch(operation, unique_id, available_space, view_model)\n",
      "  File \"c:\\gabrielfloreadata\\tvb_rest\\tvb-root-fork\\tvb-root\\framework_tvb\\tvb\\core\\adapters\\abcuploader.py\", line 80, in _prelaunch\n",
      "    return ABCSynchronous._prelaunch(self, operation, uid, available_disk_space, view_model, **kwargs)\n",
      "  File \"c:\\gabrielfloreadata\\tvb_rest\\tvb-root-fork\\tvb-root\\framework_tvb\\tvb\\core\\adapters\\abcadapter.py\", line 89, in new_function\n",
      "    return func(*args, **kw)\n",
      "  File \"c:\\gabrielfloreadata\\tvb_rest\\tvb-root-fork\\tvb-root\\framework_tvb\\tvb\\core\\adapters\\abcadapter.py\", line 378, in _prelaunch\n",
      "    self.__check_integrity(result)\n",
      "  File \"c:\\gabrielfloreadata\\tvb_rest\\tvb-root-fork\\tvb-root\\framework_tvb\\tvb\\core\\adapters\\abcadapter.py\", line 438, in __check_integrity\n",
      "    raise InvalidParameterException(msg % type(result_entity))\n",
      "tvb.core.adapters.exceptions.InvalidParameterException: Unexpected output DataType <class 'tvb.core.entities.model.model_datatype.DataType'>\n",
      "2020-02-28 09:58:50,238 - ERROR - tvb.core.services.flow_service - Could not launch operation ZIPConnectivityImporter with the given set of input data, because: Unexpected output DataType <class 'tvb.core.entities.model.model_datatype.DataType'>\n",
      "Traceback (most recent call last):\n",
      "  File \"c:\\gabrielfloreadata\\tvb_rest\\tvb-root-fork\\tvb-root\\framework_tvb\\tvb\\core\\services\\flow_service.py\", line 178, in fire_operation\n",
      "    model_view=view_model, **data)\n",
      "  File \"c:\\gabrielfloreadata\\tvb_rest\\tvb-root-fork\\tvb-root\\framework_tvb\\tvb\\core\\services\\operation_service.py\", line 126, in initiate_operation\n",
      "    return self.initiate_prelaunch(operations[0], adapter_instance, **kwargs)\n",
      "  File \"c:\\gabrielfloreadata\\tvb_rest\\tvb-root-fork\\tvb-root\\framework_tvb\\tvb\\core\\services\\operation_service.py\", line 342, in initiate_prelaunch\n",
      "    self._handle_exception(excep, temp_files, excep.message, operation)\n",
      "  File \"c:\\gabrielfloreadata\\tvb_rest\\tvb-root-fork\\tvb-root\\framework_tvb\\tvb\\core\\services\\operation_service.py\", line 395, in _handle_exception\n",
      "    sys.exc_info()[2])  # when rethrowing in python this is required to preserve the stack trace\n",
      "  File \"c:\\gabrielfloreadata\\tvb_rest\\tvb-root-fork\\tvb-root\\framework_tvb\\tvb\\core\\services\\operation_service.py\", line 321, in initiate_prelaunch\n",
      "    result_msg, nr_datatypes = adapter_instance._prelaunch(operation, unique_id, available_space, view_model)\n",
      "  File \"c:\\gabrielfloreadata\\tvb_rest\\tvb-root-fork\\tvb-root\\framework_tvb\\tvb\\core\\adapters\\abcuploader.py\", line 80, in _prelaunch\n",
      "    return ABCSynchronous._prelaunch(self, operation, uid, available_disk_space, view_model, **kwargs)\n",
      "  File \"c:\\gabrielfloreadata\\tvb_rest\\tvb-root-fork\\tvb-root\\framework_tvb\\tvb\\core\\adapters\\abcadapter.py\", line 89, in new_function\n",
      "    return func(*args, **kw)\n",
      "  File \"c:\\gabrielfloreadata\\tvb_rest\\tvb-root-fork\\tvb-root\\framework_tvb\\tvb\\core\\adapters\\abcadapter.py\", line 378, in _prelaunch\n",
      "    self.__check_integrity(result)\n",
      "  File \"c:\\gabrielfloreadata\\tvb_rest\\tvb-root-fork\\tvb-root\\framework_tvb\\tvb\\core\\adapters\\abcadapter.py\", line 438, in __check_integrity\n",
      "    raise InvalidParameterException(msg % type(result_entity))\n",
      "tvb.core.adapters.exceptions.InvalidParameterException: Unexpected output DataType <class 'tvb.core.entities.model.model_datatype.DataType'>\n"
     ]
    },
    {
     "ename": "OperationException",
     "evalue": "Unexpected output DataType <class 'tvb.core.entities.model.model_datatype.DataType'>",
     "output_type": "error",
     "traceback": [
      "\u001b[1;31m---------------------------------------------------------------------------\u001b[0m",
      "\u001b[1;31mInvalidParameterException\u001b[0m                 Traceback (most recent call last)",
      "\u001b[1;32mc:\\gabrielfloreadata\\tvb_rest\\tvb-root-fork\\tvb-root\\framework_tvb\\tvb\\core\\services\\flow_service.py\u001b[0m in \u001b[0;36mfire_operation\u001b[1;34m(self, adapter_instance, current_user, project_id, visible, view_model, **data)\u001b[0m\n\u001b[0;32m    177\u001b[0m             result = OperationService().initiate_operation(current_user, project, adapter_instance, visible,\n\u001b[1;32m--> 178\u001b[1;33m                                                            model_view=view_model, **data)\n\u001b[0m\u001b[0;32m    179\u001b[0m             \u001b[0mself\u001b[0m\u001b[1;33m.\u001b[0m\u001b[0mlogger\u001b[0m\u001b[1;33m.\u001b[0m\u001b[0minfo\u001b[0m\u001b[1;33m(\u001b[0m\u001b[1;34m\"Finished operation launch:\"\u001b[0m \u001b[1;33m+\u001b[0m \u001b[0moperation_name\u001b[0m\u001b[1;33m)\u001b[0m\u001b[1;33m\u001b[0m\u001b[1;33m\u001b[0m\u001b[0m\n",
      "\u001b[1;32mc:\\gabrielfloreadata\\tvb_rest\\tvb-root-fork\\tvb-root\\framework_tvb\\tvb\\core\\services\\operation_service.py\u001b[0m in \u001b[0;36minitiate_operation\u001b[1;34m(self, current_user, project, adapter_instance, visible, model_view, **kwargs)\u001b[0m\n\u001b[0;32m    125\u001b[0m                 \u001b[1;32mraise\u001b[0m \u001b[0mLaunchException\u001b[0m\u001b[1;33m(\u001b[0m\u001b[1;34m\"Invalid empty Operation!!!\"\u001b[0m\u001b[1;33m)\u001b[0m\u001b[1;33m\u001b[0m\u001b[1;33m\u001b[0m\u001b[0m\n\u001b[1;32m--> 126\u001b[1;33m             \u001b[1;32mreturn\u001b[0m \u001b[0mself\u001b[0m\u001b[1;33m.\u001b[0m\u001b[0minitiate_prelaunch\u001b[0m\u001b[1;33m(\u001b[0m\u001b[0moperations\u001b[0m\u001b[1;33m[\u001b[0m\u001b[1;36m0\u001b[0m\u001b[1;33m]\u001b[0m\u001b[1;33m,\u001b[0m \u001b[0madapter_instance\u001b[0m\u001b[1;33m,\u001b[0m \u001b[1;33m**\u001b[0m\u001b[0mkwargs\u001b[0m\u001b[1;33m)\u001b[0m\u001b[1;33m\u001b[0m\u001b[1;33m\u001b[0m\u001b[0m\n\u001b[0m\u001b[0;32m    127\u001b[0m         \u001b[1;32melse\u001b[0m\u001b[1;33m:\u001b[0m\u001b[1;33m\u001b[0m\u001b[1;33m\u001b[0m\u001b[0m\n",
      "\u001b[1;32mc:\\gabrielfloreadata\\tvb_rest\\tvb-root-fork\\tvb-root\\framework_tvb\\tvb\\core\\services\\operation_service.py\u001b[0m in \u001b[0;36minitiate_prelaunch\u001b[1;34m(self, operation, adapter_instance, **kwargs)\u001b[0m\n\u001b[0;32m    341\u001b[0m         \u001b[1;32mexcept\u001b[0m \u001b[0mTVBException\u001b[0m \u001b[1;32mas\u001b[0m \u001b[0mexcep\u001b[0m\u001b[1;33m:\u001b[0m\u001b[1;33m\u001b[0m\u001b[1;33m\u001b[0m\u001b[0m\n\u001b[1;32m--> 342\u001b[1;33m             \u001b[0mself\u001b[0m\u001b[1;33m.\u001b[0m\u001b[0m_handle_exception\u001b[0m\u001b[1;33m(\u001b[0m\u001b[0mexcep\u001b[0m\u001b[1;33m,\u001b[0m \u001b[0mtemp_files\u001b[0m\u001b[1;33m,\u001b[0m \u001b[0mexcep\u001b[0m\u001b[1;33m.\u001b[0m\u001b[0mmessage\u001b[0m\u001b[1;33m,\u001b[0m \u001b[0moperation\u001b[0m\u001b[1;33m)\u001b[0m\u001b[1;33m\u001b[0m\u001b[1;33m\u001b[0m\u001b[0m\n\u001b[0m\u001b[0;32m    343\u001b[0m         \u001b[1;32mexcept\u001b[0m \u001b[0mMemoryError\u001b[0m\u001b[1;33m:\u001b[0m\u001b[1;33m\u001b[0m\u001b[1;33m\u001b[0m\u001b[0m\n",
      "\u001b[1;32mc:\\gabrielfloreadata\\tvb_rest\\tvb-root-fork\\tvb-root\\framework_tvb\\tvb\\core\\services\\operation_service.py\u001b[0m in \u001b[0;36m_handle_exception\u001b[1;34m(self, exception, temp_files, message, operation)\u001b[0m\n\u001b[0;32m    394\u001b[0m         raise exception.with_traceback(\n\u001b[1;32m--> 395\u001b[1;33m             sys.exc_info()[2])  # when rethrowing in python this is required to preserve the stack trace\n\u001b[0m\u001b[0;32m    396\u001b[0m \u001b[1;33m\u001b[0m\u001b[0m\n",
      "\u001b[1;32mc:\\gabrielfloreadata\\tvb_rest\\tvb-root-fork\\tvb-root\\framework_tvb\\tvb\\core\\services\\operation_service.py\u001b[0m in \u001b[0;36minitiate_prelaunch\u001b[1;34m(self, operation, adapter_instance, **kwargs)\u001b[0m\n\u001b[0;32m    320\u001b[0m             \u001b[0mview_model\u001b[0m \u001b[1;33m=\u001b[0m \u001b[0mself\u001b[0m\u001b[1;33m.\u001b[0m\u001b[0mload_view_model\u001b[0m\u001b[1;33m(\u001b[0m\u001b[0madapter_instance\u001b[0m\u001b[1;33m,\u001b[0m \u001b[0moperation\u001b[0m\u001b[1;33m)\u001b[0m\u001b[1;33m\u001b[0m\u001b[1;33m\u001b[0m\u001b[0m\n\u001b[1;32m--> 321\u001b[1;33m             \u001b[0mresult_msg\u001b[0m\u001b[1;33m,\u001b[0m \u001b[0mnr_datatypes\u001b[0m \u001b[1;33m=\u001b[0m \u001b[0madapter_instance\u001b[0m\u001b[1;33m.\u001b[0m\u001b[0m_prelaunch\u001b[0m\u001b[1;33m(\u001b[0m\u001b[0moperation\u001b[0m\u001b[1;33m,\u001b[0m \u001b[0munique_id\u001b[0m\u001b[1;33m,\u001b[0m \u001b[0mavailable_space\u001b[0m\u001b[1;33m,\u001b[0m \u001b[0mview_model\u001b[0m\u001b[1;33m)\u001b[0m\u001b[1;33m\u001b[0m\u001b[1;33m\u001b[0m\u001b[0m\n\u001b[0m\u001b[0;32m    322\u001b[0m             \u001b[0moperation\u001b[0m \u001b[1;33m=\u001b[0m \u001b[0mdao\u001b[0m\u001b[1;33m.\u001b[0m\u001b[0mget_operation_by_id\u001b[0m\u001b[1;33m(\u001b[0m\u001b[0moperation\u001b[0m\u001b[1;33m.\u001b[0m\u001b[0mid\u001b[0m\u001b[1;33m)\u001b[0m\u001b[1;33m\u001b[0m\u001b[1;33m\u001b[0m\u001b[0m\n",
      "\u001b[1;32mc:\\gabrielfloreadata\\tvb_rest\\tvb-root-fork\\tvb-root\\framework_tvb\\tvb\\core\\adapters\\abcuploader.py\u001b[0m in \u001b[0;36m_prelaunch\u001b[1;34m(self, operation, uid, available_disk_space, view_model, **kwargs)\u001b[0m\n\u001b[0;32m     79\u001b[0m \u001b[1;33m\u001b[0m\u001b[0m\n\u001b[1;32m---> 80\u001b[1;33m         \u001b[1;32mreturn\u001b[0m \u001b[0mABCSynchronous\u001b[0m\u001b[1;33m.\u001b[0m\u001b[0m_prelaunch\u001b[0m\u001b[1;33m(\u001b[0m\u001b[0mself\u001b[0m\u001b[1;33m,\u001b[0m \u001b[0moperation\u001b[0m\u001b[1;33m,\u001b[0m \u001b[0muid\u001b[0m\u001b[1;33m,\u001b[0m \u001b[0mavailable_disk_space\u001b[0m\u001b[1;33m,\u001b[0m \u001b[0mview_model\u001b[0m\u001b[1;33m,\u001b[0m \u001b[1;33m**\u001b[0m\u001b[0mkwargs\u001b[0m\u001b[1;33m)\u001b[0m\u001b[1;33m\u001b[0m\u001b[1;33m\u001b[0m\u001b[0m\n\u001b[0m\u001b[0;32m     81\u001b[0m \u001b[1;33m\u001b[0m\u001b[0m\n",
      "\u001b[1;32mc:\\gabrielfloreadata\\tvb_rest\\tvb-root-fork\\tvb-root\\framework_tvb\\tvb\\core\\adapters\\abcadapter.py\u001b[0m in \u001b[0;36mnew_function\u001b[1;34m(*args, **kw)\u001b[0m\n\u001b[0;32m     88\u001b[0m             \u001b[1;32mtry\u001b[0m\u001b[1;33m:\u001b[0m\u001b[1;33m\u001b[0m\u001b[1;33m\u001b[0m\u001b[0m\n\u001b[1;32m---> 89\u001b[1;33m                 \u001b[1;32mreturn\u001b[0m \u001b[0mfunc\u001b[0m\u001b[1;33m(\u001b[0m\u001b[1;33m*\u001b[0m\u001b[0margs\u001b[0m\u001b[1;33m,\u001b[0m \u001b[1;33m**\u001b[0m\u001b[0mkw\u001b[0m\u001b[1;33m)\u001b[0m\u001b[1;33m\u001b[0m\u001b[1;33m\u001b[0m\u001b[0m\n\u001b[0m\u001b[0;32m     90\u001b[0m             \u001b[1;32mexcept\u001b[0m \u001b[0mFloatingPointError\u001b[0m\u001b[1;33m:\u001b[0m\u001b[1;33m\u001b[0m\u001b[1;33m\u001b[0m\u001b[0m\n",
      "\u001b[1;32mc:\\gabrielfloreadata\\tvb_rest\\tvb-root-fork\\tvb-root\\framework_tvb\\tvb\\core\\adapters\\abcadapter.py\u001b[0m in \u001b[0;36m_prelaunch\u001b[1;34m(self, operation, uid, available_disk_space, view_model, **kwargs)\u001b[0m\n\u001b[0;32m    377\u001b[0m             \u001b[0mresult\u001b[0m \u001b[1;33m=\u001b[0m \u001b[1;33m[\u001b[0m\u001b[0mresult\u001b[0m\u001b[1;33m,\u001b[0m \u001b[1;33m]\u001b[0m\u001b[1;33m\u001b[0m\u001b[1;33m\u001b[0m\u001b[0m\n\u001b[1;32m--> 378\u001b[1;33m         \u001b[0mself\u001b[0m\u001b[1;33m.\u001b[0m\u001b[0m__check_integrity\u001b[0m\u001b[1;33m(\u001b[0m\u001b[0mresult\u001b[0m\u001b[1;33m)\u001b[0m\u001b[1;33m\u001b[0m\u001b[1;33m\u001b[0m\u001b[0m\n\u001b[0m\u001b[0;32m    379\u001b[0m         \u001b[1;32mreturn\u001b[0m \u001b[0mself\u001b[0m\u001b[1;33m.\u001b[0m\u001b[0m_capture_operation_results\u001b[0m\u001b[1;33m(\u001b[0m\u001b[0mresult\u001b[0m\u001b[1;33m)\u001b[0m\u001b[1;33m\u001b[0m\u001b[1;33m\u001b[0m\u001b[0m\n",
      "\u001b[1;32mc:\\gabrielfloreadata\\tvb_rest\\tvb-root-fork\\tvb-root\\framework_tvb\\tvb\\core\\adapters\\abcadapter.py\u001b[0m in \u001b[0;36m__check_integrity\u001b[1;34m(self, result)\u001b[0m\n\u001b[0;32m    437\u001b[0m                 \u001b[0mmsg\u001b[0m \u001b[1;33m=\u001b[0m \u001b[1;34m\"Unexpected output DataType %s\"\u001b[0m\u001b[1;33m\u001b[0m\u001b[1;33m\u001b[0m\u001b[0m\n\u001b[1;32m--> 438\u001b[1;33m                 \u001b[1;32mraise\u001b[0m \u001b[0mInvalidParameterException\u001b[0m\u001b[1;33m(\u001b[0m\u001b[0mmsg\u001b[0m \u001b[1;33m%\u001b[0m \u001b[0mtype\u001b[0m\u001b[1;33m(\u001b[0m\u001b[0mresult_entity\u001b[0m\u001b[1;33m)\u001b[0m\u001b[1;33m)\u001b[0m\u001b[1;33m\u001b[0m\u001b[1;33m\u001b[0m\u001b[0m\n\u001b[0m\u001b[0;32m    439\u001b[0m \u001b[1;33m\u001b[0m\u001b[0m\n",
      "\u001b[1;31mInvalidParameterException\u001b[0m: Unexpected output DataType <class 'tvb.core.entities.model.model_datatype.DataType'>",
      "\nDuring handling of the above exception, another exception occurred:\n",
      "\u001b[1;31mOperationException\u001b[0m                        Traceback (most recent call last)",
      "\u001b[1;32m<ipython-input-7-32c86f14ca4c>\u001b[0m in \u001b[0;36m<module>\u001b[1;34m\u001b[0m\n\u001b[0;32m      7\u001b[0m \u001b[0mtest_project_with_data\u001b[0m \u001b[1;33m=\u001b[0m \u001b[0mTestFactory\u001b[0m\u001b[1;33m.\u001b[0m\u001b[0mcreate_project\u001b[0m\u001b[1;33m(\u001b[0m\u001b[0mtest_user\u001b[0m\u001b[1;33m,\u001b[0m \u001b[1;34m'Rest_Project2'\u001b[0m\u001b[1;33m)\u001b[0m\u001b[1;33m\u001b[0m\u001b[1;33m\u001b[0m\u001b[0m\n\u001b[0;32m      8\u001b[0m \u001b[0mzip_path\u001b[0m \u001b[1;33m=\u001b[0m \u001b[0mos\u001b[0m\u001b[1;33m.\u001b[0m\u001b[0mpath\u001b[0m\u001b[1;33m.\u001b[0m\u001b[0mjoin\u001b[0m\u001b[1;33m(\u001b[0m\u001b[0mos\u001b[0m\u001b[1;33m.\u001b[0m\u001b[0mpath\u001b[0m\u001b[1;33m.\u001b[0m\u001b[0mdirname\u001b[0m\u001b[1;33m(\u001b[0m\u001b[0mtvb_data\u001b[0m\u001b[1;33m.\u001b[0m\u001b[0m__file__\u001b[0m\u001b[1;33m)\u001b[0m\u001b[1;33m,\u001b[0m \u001b[1;34m'connectivity'\u001b[0m\u001b[1;33m,\u001b[0m \u001b[1;34m'connectivity_96.zip'\u001b[0m\u001b[1;33m)\u001b[0m\u001b[1;33m\u001b[0m\u001b[1;33m\u001b[0m\u001b[0m\n\u001b[1;32m----> 9\u001b[1;33m \u001b[0mTestFactory\u001b[0m\u001b[1;33m.\u001b[0m\u001b[0mimport_zip_connectivity\u001b[0m\u001b[1;33m(\u001b[0m\u001b[0mtest_user\u001b[0m\u001b[1;33m,\u001b[0m \u001b[0mtest_project_with_data\u001b[0m\u001b[1;33m,\u001b[0m \u001b[0mzip_path\u001b[0m\u001b[1;33m)\u001b[0m\u001b[1;33m\u001b[0m\u001b[1;33m\u001b[0m\u001b[0m\n\u001b[0m\u001b[0;32m     10\u001b[0m \u001b[1;33m\u001b[0m\u001b[0m\n",
      "\u001b[1;32mc:\\gabrielfloreadata\\tvb_rest\\tvb-root-fork\\tvb-root\\framework_tvb\\tvb\\tests\\framework\\core\\factory.py\u001b[0m in \u001b[0;36mimport_zip_connectivity\u001b[1;34m(user, project, zip_path, subject)\u001b[0m\n\u001b[0;32m    376\u001b[0m \u001b[1;33m\u001b[0m\u001b[0m\n\u001b[0;32m    377\u001b[0m         \u001b[1;31m# Launch Operation\u001b[0m\u001b[1;33m\u001b[0m\u001b[1;33m\u001b[0m\u001b[1;33m\u001b[0m\u001b[0m\n\u001b[1;32m--> 378\u001b[1;33m         \u001b[0mFlowService\u001b[0m\u001b[1;33m(\u001b[0m\u001b[1;33m)\u001b[0m\u001b[1;33m.\u001b[0m\u001b[0mfire_operation\u001b[0m\u001b[1;33m(\u001b[0m\u001b[0mimporter\u001b[0m\u001b[1;33m,\u001b[0m \u001b[0muser\u001b[0m\u001b[1;33m,\u001b[0m \u001b[0mproject\u001b[0m\u001b[1;33m.\u001b[0m\u001b[0mid\u001b[0m\u001b[1;33m,\u001b[0m \u001b[0mview_model\u001b[0m\u001b[1;33m=\u001b[0m\u001b[0mview_model\u001b[0m\u001b[1;33m)\u001b[0m\u001b[1;33m\u001b[0m\u001b[1;33m\u001b[0m\u001b[0m\n\u001b[0m\u001b[0;32m    379\u001b[0m \u001b[1;33m\u001b[0m\u001b[0m\n\u001b[0;32m    380\u001b[0m \u001b[1;33m\u001b[0m\u001b[0m\n",
      "\u001b[1;32mc:\\gabrielfloreadata\\tvb_rest\\tvb-root-fork\\tvb-root\\framework_tvb\\tvb\\core\\services\\flow_service.py\u001b[0m in \u001b[0;36mfire_operation\u001b[1;34m(self, adapter_instance, current_user, project_id, visible, view_model, **data)\u001b[0m\n\u001b[0;32m    183\u001b[0m             self.logger.exception(\"Could not launch operation \" + operation_name +\n\u001b[0;32m    184\u001b[0m                                   \" with the given set of input data, because: \" + excep.message)\n\u001b[1;32m--> 185\u001b[1;33m             \u001b[1;32mraise\u001b[0m \u001b[0mOperationException\u001b[0m\u001b[1;33m(\u001b[0m\u001b[0mexcep\u001b[0m\u001b[1;33m.\u001b[0m\u001b[0mmessage\u001b[0m\u001b[1;33m,\u001b[0m \u001b[0mexcep\u001b[0m\u001b[1;33m)\u001b[0m\u001b[1;33m\u001b[0m\u001b[1;33m\u001b[0m\u001b[0m\n\u001b[0m\u001b[0;32m    186\u001b[0m         \u001b[1;32mexcept\u001b[0m \u001b[0mException\u001b[0m \u001b[1;32mas\u001b[0m \u001b[0mexcep\u001b[0m\u001b[1;33m:\u001b[0m\u001b[1;33m\u001b[0m\u001b[1;33m\u001b[0m\u001b[0m\n\u001b[0;32m    187\u001b[0m             \u001b[0mself\u001b[0m\u001b[1;33m.\u001b[0m\u001b[0mlogger\u001b[0m\u001b[1;33m.\u001b[0m\u001b[0mexception\u001b[0m\u001b[1;33m(\u001b[0m\u001b[1;34m\"Could not launch operation \"\u001b[0m \u001b[1;33m+\u001b[0m \u001b[0moperation_name\u001b[0m \u001b[1;33m+\u001b[0m \u001b[1;34m\" with the given set of input data!\"\u001b[0m\u001b[1;33m)\u001b[0m\u001b[1;33m\u001b[0m\u001b[1;33m\u001b[0m\u001b[0m\n",
      "\u001b[1;31mOperationException\u001b[0m: Unexpected output DataType <class 'tvb.core.entities.model.model_datatype.DataType'>"
     ]
    }
   ],
   "source": [
    "### Initialization of used data\n",
    "\n",
    "data_resource = GetDataInProjectResource()\n",
    "operations_resource = GetOperationsInProjectResource()\n",
    "test_user = TestFactory.create_user('Rest_User1')\n",
    "test_project_with_data = TestFactory.create_project(test_user, 'Rest_Project2')\n",
    "zip_path = os.path.join(os.path.dirname(tvb_data.__file__), 'connectivity', 'connectivity_96.zip')\n",
    "TestFactory.import_zip_connectivity(test_user, test_project_with_data, zip_path)\n",
    "    "
   ]
  },
  {
   "cell_type": "code",
   "execution_count": 12,
   "metadata": {},
   "outputs": [
    {
     "name": "stdout",
     "output_type": "stream",
     "text": [
      "[]\n"
     ]
    }
   ],
   "source": [
    "### Get data in project\n",
    "\n",
    "project_gid = test_project_with_data.gid\n",
    "result = data_resource.get(project_gid)\n",
    "print(result)\n"
   ]
  },
  {
   "cell_type": "code",
   "execution_count": 13,
   "metadata": {},
   "outputs": [
    {
     "ename": "RuntimeError",
     "evalue": "Working outside of request context.\n\nThis typically means that you attempted to use functionality that needed\nan active HTTP request.  Consult the documentation on testing for\ninformation about how to avoid this problem.",
     "output_type": "error",
     "traceback": [
      "\u001b[1;31m---------------------------------------------------------------------------\u001b[0m",
      "\u001b[1;31mRuntimeError\u001b[0m                              Traceback (most recent call last)",
      "\u001b[1;32m<ipython-input-13-f96694ef3d56>\u001b[0m in \u001b[0;36m<module>\u001b[1;34m\u001b[0m\n\u001b[0;32m      2\u001b[0m \u001b[1;33m\u001b[0m\u001b[0m\n\u001b[0;32m      3\u001b[0m \u001b[0mproject_gid\u001b[0m \u001b[1;33m=\u001b[0m \u001b[0mtest_project_with_data\u001b[0m\u001b[1;33m.\u001b[0m\u001b[0mgid\u001b[0m\u001b[1;33m\u001b[0m\u001b[1;33m\u001b[0m\u001b[0m\n\u001b[1;32m----> 4\u001b[1;33m \u001b[0mresult\u001b[0m \u001b[1;33m=\u001b[0m \u001b[0moperations_resource\u001b[0m\u001b[1;33m.\u001b[0m\u001b[0mget\u001b[0m\u001b[1;33m(\u001b[0m\u001b[0mproject_gid\u001b[0m\u001b[1;33m)\u001b[0m\u001b[1;33m\u001b[0m\u001b[1;33m\u001b[0m\u001b[0m\n\u001b[0m\u001b[0;32m      5\u001b[0m \u001b[0mprint\u001b[0m\u001b[1;33m(\u001b[0m\u001b[0mresult\u001b[0m\u001b[1;33m)\u001b[0m\u001b[1;33m\u001b[0m\u001b[1;33m\u001b[0m\u001b[0m\n",
      "\u001b[1;32mc:\\gabrielfloreadata\\tvb_rest\\tvb-root-fork\\tvb-root\\framework_tvb\\tvb\\interfaces\\rest\\server\\resources\\project\\project_resource.py\u001b[0m in \u001b[0;36mget\u001b[1;34m(self, project_gid)\u001b[0m\n\u001b[0;32m     68\u001b[0m         \u001b[1;33m:\u001b[0m\u001b[1;32mreturn\u001b[0m \u001b[0ma\u001b[0m \u001b[0mlist\u001b[0m \u001b[0mof\u001b[0m \u001b[0mproject\u001b[0m\u001b[0;31m'\u001b[0m\u001b[0ms\u001b[0m \u001b[0mOperation\u001b[0m \u001b[0mentities\u001b[0m\u001b[1;33m\u001b[0m\u001b[1;33m\u001b[0m\u001b[0m\n\u001b[0;32m     69\u001b[0m         \"\"\"\n\u001b[1;32m---> 70\u001b[1;33m         \u001b[0mpage_number\u001b[0m \u001b[1;33m=\u001b[0m \u001b[0mrequest\u001b[0m\u001b[1;33m.\u001b[0m\u001b[0margs\u001b[0m\u001b[1;33m.\u001b[0m\u001b[0mget\u001b[0m\u001b[1;33m(\u001b[0m\u001b[0mStrings\u001b[0m\u001b[1;33m.\u001b[0m\u001b[0mPAGE_NUMBER\u001b[0m\u001b[1;33m.\u001b[0m\u001b[0mvalue\u001b[0m\u001b[1;33m)\u001b[0m\u001b[1;33m\u001b[0m\u001b[1;33m\u001b[0m\u001b[0m\n\u001b[0m\u001b[0;32m     71\u001b[0m         \u001b[1;32mif\u001b[0m \u001b[0mpage_number\u001b[0m \u001b[1;32mis\u001b[0m \u001b[1;32mNone\u001b[0m\u001b[1;33m:\u001b[0m\u001b[1;33m\u001b[0m\u001b[1;33m\u001b[0m\u001b[0m\n\u001b[0;32m     72\u001b[0m             \u001b[0mpage_number\u001b[0m \u001b[1;33m=\u001b[0m \u001b[1;36m1\u001b[0m\u001b[1;33m\u001b[0m\u001b[1;33m\u001b[0m\u001b[0m\n",
      "\u001b[1;32m~\\AppData\\Local\\Continuum\\anaconda3\\envs\\tvb-rest-fork\\lib\\site-packages\\werkzeug\\local.py\u001b[0m in \u001b[0;36m__getattr__\u001b[1;34m(self, name)\u001b[0m\n\u001b[0;32m    346\u001b[0m         \u001b[1;32mif\u001b[0m \u001b[0mname\u001b[0m \u001b[1;33m==\u001b[0m \u001b[1;34m\"__members__\"\u001b[0m\u001b[1;33m:\u001b[0m\u001b[1;33m\u001b[0m\u001b[1;33m\u001b[0m\u001b[0m\n\u001b[0;32m    347\u001b[0m             \u001b[1;32mreturn\u001b[0m \u001b[0mdir\u001b[0m\u001b[1;33m(\u001b[0m\u001b[0mself\u001b[0m\u001b[1;33m.\u001b[0m\u001b[0m_get_current_object\u001b[0m\u001b[1;33m(\u001b[0m\u001b[1;33m)\u001b[0m\u001b[1;33m)\u001b[0m\u001b[1;33m\u001b[0m\u001b[1;33m\u001b[0m\u001b[0m\n\u001b[1;32m--> 348\u001b[1;33m         \u001b[1;32mreturn\u001b[0m \u001b[0mgetattr\u001b[0m\u001b[1;33m(\u001b[0m\u001b[0mself\u001b[0m\u001b[1;33m.\u001b[0m\u001b[0m_get_current_object\u001b[0m\u001b[1;33m(\u001b[0m\u001b[1;33m)\u001b[0m\u001b[1;33m,\u001b[0m \u001b[0mname\u001b[0m\u001b[1;33m)\u001b[0m\u001b[1;33m\u001b[0m\u001b[1;33m\u001b[0m\u001b[0m\n\u001b[0m\u001b[0;32m    349\u001b[0m \u001b[1;33m\u001b[0m\u001b[0m\n\u001b[0;32m    350\u001b[0m     \u001b[1;32mdef\u001b[0m \u001b[0m__setitem__\u001b[0m\u001b[1;33m(\u001b[0m\u001b[0mself\u001b[0m\u001b[1;33m,\u001b[0m \u001b[0mkey\u001b[0m\u001b[1;33m,\u001b[0m \u001b[0mvalue\u001b[0m\u001b[1;33m)\u001b[0m\u001b[1;33m:\u001b[0m\u001b[1;33m\u001b[0m\u001b[1;33m\u001b[0m\u001b[0m\n",
      "\u001b[1;32m~\\AppData\\Local\\Continuum\\anaconda3\\envs\\tvb-rest-fork\\lib\\site-packages\\werkzeug\\local.py\u001b[0m in \u001b[0;36m_get_current_object\u001b[1;34m(self)\u001b[0m\n\u001b[0;32m    305\u001b[0m         \"\"\"\n\u001b[0;32m    306\u001b[0m         \u001b[1;32mif\u001b[0m \u001b[1;32mnot\u001b[0m \u001b[0mhasattr\u001b[0m\u001b[1;33m(\u001b[0m\u001b[0mself\u001b[0m\u001b[1;33m.\u001b[0m\u001b[0m__local\u001b[0m\u001b[1;33m,\u001b[0m \u001b[1;34m\"__release_local__\"\u001b[0m\u001b[1;33m)\u001b[0m\u001b[1;33m:\u001b[0m\u001b[1;33m\u001b[0m\u001b[1;33m\u001b[0m\u001b[0m\n\u001b[1;32m--> 307\u001b[1;33m             \u001b[1;32mreturn\u001b[0m \u001b[0mself\u001b[0m\u001b[1;33m.\u001b[0m\u001b[0m__local\u001b[0m\u001b[1;33m(\u001b[0m\u001b[1;33m)\u001b[0m\u001b[1;33m\u001b[0m\u001b[1;33m\u001b[0m\u001b[0m\n\u001b[0m\u001b[0;32m    308\u001b[0m         \u001b[1;32mtry\u001b[0m\u001b[1;33m:\u001b[0m\u001b[1;33m\u001b[0m\u001b[1;33m\u001b[0m\u001b[0m\n\u001b[0;32m    309\u001b[0m             \u001b[1;32mreturn\u001b[0m \u001b[0mgetattr\u001b[0m\u001b[1;33m(\u001b[0m\u001b[0mself\u001b[0m\u001b[1;33m.\u001b[0m\u001b[0m__local\u001b[0m\u001b[1;33m,\u001b[0m \u001b[0mself\u001b[0m\u001b[1;33m.\u001b[0m\u001b[0m__name__\u001b[0m\u001b[1;33m)\u001b[0m\u001b[1;33m\u001b[0m\u001b[1;33m\u001b[0m\u001b[0m\n",
      "\u001b[1;32m~\\AppData\\Local\\Continuum\\anaconda3\\envs\\tvb-rest-fork\\lib\\site-packages\\flask\\globals.py\u001b[0m in \u001b[0;36m_lookup_req_object\u001b[1;34m(name)\u001b[0m\n\u001b[0;32m     36\u001b[0m     \u001b[0mtop\u001b[0m \u001b[1;33m=\u001b[0m \u001b[0m_request_ctx_stack\u001b[0m\u001b[1;33m.\u001b[0m\u001b[0mtop\u001b[0m\u001b[1;33m\u001b[0m\u001b[1;33m\u001b[0m\u001b[0m\n\u001b[0;32m     37\u001b[0m     \u001b[1;32mif\u001b[0m \u001b[0mtop\u001b[0m \u001b[1;32mis\u001b[0m \u001b[1;32mNone\u001b[0m\u001b[1;33m:\u001b[0m\u001b[1;33m\u001b[0m\u001b[1;33m\u001b[0m\u001b[0m\n\u001b[1;32m---> 38\u001b[1;33m         \u001b[1;32mraise\u001b[0m \u001b[0mRuntimeError\u001b[0m\u001b[1;33m(\u001b[0m\u001b[0m_request_ctx_err_msg\u001b[0m\u001b[1;33m)\u001b[0m\u001b[1;33m\u001b[0m\u001b[1;33m\u001b[0m\u001b[0m\n\u001b[0m\u001b[0;32m     39\u001b[0m     \u001b[1;32mreturn\u001b[0m \u001b[0mgetattr\u001b[0m\u001b[1;33m(\u001b[0m\u001b[0mtop\u001b[0m\u001b[1;33m,\u001b[0m \u001b[0mname\u001b[0m\u001b[1;33m)\u001b[0m\u001b[1;33m\u001b[0m\u001b[1;33m\u001b[0m\u001b[0m\n\u001b[0;32m     40\u001b[0m \u001b[1;33m\u001b[0m\u001b[0m\n",
      "\u001b[1;31mRuntimeError\u001b[0m: Working outside of request context.\n\nThis typically means that you attempted to use functionality that needed\nan active HTTP request.  Consult the documentation on testing for\ninformation about how to avoid this problem."
     ]
    }
   ],
   "source": [
    "### Get operations in project\n",
    "\n",
    "project_gid = test_project_with_data.gid\n",
    "result = operations_resource.get(project_gid)\n",
    "print(result)\n"
   ]
  },
  {
   "cell_type": "code",
   "execution_count": 14,
   "metadata": {},
   "outputs": [],
   "source": [
    "### Clean\n",
    "\n",
    "FilesHelper().remove_project_structure(test_project_with_data.name)\n"
   ]
  },
  {
   "cell_type": "markdown",
   "metadata": {},
   "source": [
    "## Datatype resources"
   ]
  },
  {
   "cell_type": "code",
   "execution_count": 20,
   "metadata": {},
   "outputs": [],
   "source": [
    "### Initialization of used data\n",
    "\n",
    "test_user = TestFactory.create_user('Rest_User5')\n",
    "test_project = TestFactory.create_project(test_user, 'Rest_Project5')\n",
    "retrieve_resource = RetrieveDatatypeResource()\n",
    "get_operations_resource = GetOperationsForDatatypeResource()\n",
    "get_data_in_project_resource = GetDataInProjectResource()"
   ]
  },
  {
   "cell_type": "code",
   "execution_count": null,
   "metadata": {},
   "outputs": [],
   "source": []
  }
 ],
 "metadata": {
  "kernelspec": {
   "display_name": "Python 3",
   "language": "python",
   "name": "python3"
  },
  "language_info": {
   "codemirror_mode": {
    "name": "ipython",
    "version": 3
   },
   "file_extension": ".py",
   "mimetype": "text/x-python",
   "name": "python",
   "nbconvert_exporter": "python",
   "pygments_lexer": "ipython3",
   "version": "3.7.6"
  }
 },
 "nbformat": 4,
 "nbformat_minor": 1
}
